{
 "cells": [
  {
   "cell_type": "markdown",
   "metadata": {},
   "source": [
    "# Virtual Environments (venv)\n",
    "<br>\n",
    "If you haven't heard of venv or the like I highly recommend that you look into them. What venv allows you to do is to create separtate environments usually with different settings and installed software. For example, you can have Python 2.7 installed in your machine and use venv to use Python 3.x. In windows the inner workings of venv may be more complicated, however, in Linux the 'trick' is simply that your environment variables are updated to reflect the installations in a particular folder. On my machine I'm running python 3.x inside of /Users/myusername/venvp3 so that if you output my \\$PYTHONPATH you get:\n",
    "<br>\n",
    "    > /usr/local/lib/python2.7/site-packages\n",
    "<br> \n",
    "However, if you activated my venv in ~/venvp3 and then you output my \\$PYTHONPATH you would get:\n",
    "    > /Users/username/venvp3/lib/python3.5/site-packages\n",
    "<br>\n",
    "It is really as simple as that, in short:<br>\n",
    "- you go to the folder that is your particular venv\n",
    "  - cd ~/my_venv\n",
    "- you activate your environment which simply sets your environment variables to something specific (and useful)\n",
    "  - source bin/activate\n",
    "- you do whatever it is that you need to do\n",
    "  - for example I start my ipython notebook that is running python 3.5\n",
    "- once you are done, you revert back to your usual settings \n",
    "  - deactivate [this sets your environment variables back to your 'normal' settings]\n",
    "<br><br>\n",
    "\n",
    "And so you can have many different virtual environments with different settings. For instructions on how to set up virtualenv(what I call venv) and virtualenvwrapper (also very useful) in linux visit the links below:\n",
    "- [virtual environment](https://wiki.archlinux.org/index.php/Python/Virtual_environment)\n",
    "- [virtualenvwrapper](http://virtualenvwrapper.readthedocs.io/en/latest/)"
   ]
  }
 ],
 "metadata": {
  "kernelspec": {
   "display_name": "Python 3",
   "language": "python",
   "name": "python3"
  },
  "language_info": {
   "codemirror_mode": {
    "name": "ipython",
    "version": 3
   },
   "file_extension": ".py",
   "mimetype": "text/x-python",
   "name": "python",
   "nbconvert_exporter": "python",
   "pygments_lexer": "ipython3",
   "version": "3.5.0"
  }
 },
 "nbformat": 4,
 "nbformat_minor": 2
}
