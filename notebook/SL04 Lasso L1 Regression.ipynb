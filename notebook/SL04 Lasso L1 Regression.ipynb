{
 "cells": [
  {
   "cell_type": "markdown",
   "metadata": {},
   "source": [
    "# Lasso (L1) Regression\n",
    "<br><br>\n",
    "Lasso regression goes even further than Ridge regression by actually promoting sparsity as opposed to simply reducing overfitting. Lasso regression will make some of the weights close to or equal to zero. In the figure below from Elements of Statistical Learning by Hastie, Tibshirani, and Friedman, l1 regression is on the left hand side. As the optimization relaxes the objective function (the red ovals), the objective function is more likely to intersect the contraints (the diamond) at the 'pointy ends' which means that one of the features is equal to 0. \n",
    "\n",
    "![l1 and l1 regularization](l2-l1-regularization.png)\n",
    "\n",
    "\n",
    "Lasso 'Regularization' is accomplished by using MAP estimation with a Laplacian prior. I.e.<br><br>\n",
    "$$P(w) = Lap(w|\\lambda)\\\\\n",
    "= \\prod_{j=1}^{D} Lap(w_j|0, \\frac{1}{\\lambda})\\\\\n",
    "= \\prod_{j=1}^{D} \\frac{\\lambda}{2}e^{-\\lambda|w_j|}\n",
    "$$ \n",
    "<br><br>\n",
    "Therefore, for Lasso Regression we have the following optimization/objective.\n",
    "<br><br>\n",
    "$$\\theta_{Lasso} = \\quad \\underset{w}{\\mathrm{argmax}}\\quad log(P(Y|x,w)P(w))\\\\\n",
    "= \\underset{\\theta}{\\mathrm{argmin}}\\quad - \\sum_{i=1}^{N} log[\\frac{1}{\\sqrt{2\\pi\\sigma^2}}exp(\\frac{-(y_i - w^Tx_i)^2}{2\\sigma^2})] - \\sum_{j=1}^{D}log[\\frac{\\lambda}{2}e^{-\\lambda|w_j|}]\n",
    "$$\n",
    "<br><br> \n",
    "If you do the below you will arrive the expression:\n",
    "<br>\n",
    "* multiply by $2\\sigma^2$ \n",
    "* carry on with the algebra (see the linear regression notebook for more details)\n",
    "* drop constants since they do NOT affect the minimization \n",
    "* minimize the objective, i.e. take the partial derivative w.r.t. w and set = 0\n",
    "<br><br>\n",
    "$$\\theta_{Lasso} = \\frac{1}{N} \\sum_{i=1}^{N} (y_i - (w_0 + w^Tx_i))^2 + \\lambda||w||_{1}\\\\\n",
    "= \\frac{1}{N} \\sum_{i=1}^{N} (y_i - (w_0 + w^Tx_i))^2 + Sparsity \\space Penalty\n",
    "$$\n",
    "<br>\n",
    "where $\\lambda = \\frac{\\sigma^2}{\\tau^2} and \\lambda\\geq0$."
   ]
  },
  {
   "cell_type": "code",
   "execution_count": 3,
   "metadata": {},
   "outputs": [
    {
     "data": {
      "image/png": "[encoded data removed]",
      "text/plain": [
       "<matplotlib.figure.Figure at 0x10e4982b0>"
      ]
     },
     "metadata": {},
     "output_type": "display_data"
    }
   ],
   "source": [
    "from sklearn import datasets\n",
    "from sklearn import linear_model\n",
    "import matplotlib.pyplot as plt\n",
    "import seaborn as sns\n",
    "import numpy as np\n",
    "sns.set(color_codes=True)\n",
    "%matplotlib inline\n",
    "\n",
    "# Load the diabetes dataset\n",
    "diabetes = datasets.load_diabetes()\n",
    "# Use only one feature\n",
    "diabetes_X = diabetes.data[:, np.newaxis, 2]\n",
    "# Split the data into training/testing sets\n",
    "diabetes_X_train = diabetes_X[:-20]\n",
    "diabetes_X_test = diabetes_X[-20:]\n",
    "# Split the targets into training/testing sets\n",
    "diabetes_y_train = diabetes.target[:-20]\n",
    "diabetes_y_test = diabetes.target[-20:]\n",
    "\n",
    "# Train the model using the training set\n",
    "model = linear_model.Lasso(alpha=.5)\n",
    "model.fit(diabetes_X_train, diabetes_y_train)\n",
    "# Make predictions using the training set.\n",
    "diabetes_pred_lasso = model.predict(diabetes_X_train)\n",
    "# Repeat the training with a higher alpha for illustration purposes\n",
    "model = linear_model.Lasso(alpha=25)\n",
    "model.fit(diabetes_X_train, diabetes_y_train)\n",
    "diabetes_pred_lasso_high = model.predict(diabetes_X_train)\n",
    "\n",
    "# Do the linear regression for comparison only\n",
    "lr = linear_model.LinearRegression()\n",
    "lr.fit(diabetes_X_train, diabetes_y_train)\n",
    "diabetes_pred_lr = lr.predict(diabetes_X_train)\n",
    "\n",
    "# Plot outputs\n",
    "plt.scatter(diabetes_X_test, diabetes_y_test,  color='black')\n",
    "plt.plot(diabetes_X_train, diabetes_pred_lasso, color='blue', linewidth=2, label=r\"Lasso reg. $\\alpha$=.5\")\n",
    "plt.plot(diabetes_X_train, diabetes_pred_lasso_high, color='red', linewidth=2, label=r\"Lasso reg. $\\alpha$=25\")\n",
    "plt.plot(diabetes_X_train, diabetes_pred_lr, color='black', linewidth=2, label=\"Linear reg.\")\n",
    "plt.xlabel(\"Measured\")\n",
    "plt.ylabel(\"Prediction\")\n",
    "plt.title(\"Diabetes data (scatter) vs. linear regression estimate\")\n",
    "plt.legend(loc=\"best\")\n",
    "plt.show()"
   ]
  },
  {
   "cell_type": "markdown",
   "metadata": {},
   "source": [
    "<br><br>\n",
    "# Take away\n",
    "<br>\n",
    "Ultimately the 'Sparsity Penalty' will reduce certain weights to zero or close to zero. In the example above much like in l2 regularization, lasso 'flattens' the linear regression line and when $\\alpha$ = 25 all weights are 0 so that the line is completely flat."
   ]
  }
 ],
 "metadata": {
  "kernelspec": {
   "display_name": "Python 3",
   "language": "python",
   "name": "python3"
  },
  "language_info": {
   "codemirror_mode": {
    "name": "ipython",
    "version": 3
   },
   "file_extension": ".py",
   "mimetype": "text/x-python",
   "name": "python",
   "nbconvert_exporter": "python",
   "pygments_lexer": "ipython3",
   "version": "3.5.0"
  }
 },
 "nbformat": 4,
 "nbformat_minor": 2
}
