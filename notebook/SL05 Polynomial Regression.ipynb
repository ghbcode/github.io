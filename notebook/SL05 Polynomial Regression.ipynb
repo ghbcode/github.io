{
 "cells": [
  {
   "cell_type": "markdown",
   "metadata": {},
   "source": [
    "# Polynomial Regression\n",
    "<br><br>\n",
    "So far we have only looked at examples where the model was linear in both the parameters ($w$) and input features ($x$). However, if you want your model to model non-linear relationships then you may want to replace the input $x$ by some non-linear function $\\phi(x)$. This is expressed as follows:\n",
    "<br><br>\n",
    "$$P(y|x, \\theta) = N(y|w^T\\phi(x), \\sigma^2)$$\n",
    "<br><br>\n",
    "Note that when you do this, as you add input features and degrees/powers to those input features, your polynomial expression will quickly increase. Often times people forget the 'cross terms' so in a linear regression with two features, $x_0$ and $x_1$, you would end up with the expression $ w_0x_1 + w_1x_2$. With a polynomial model of degree 2 you end up with the expression $w_1x_0 + w_2x_0^2 + w_3x_1 + w_4x_1^2 + w_5x_0x_1$. Increase the number of features and degrees and the polynomial expression will quickly balloon. See below for an example."
   ]
  },
  {
   "cell_type": "code",
   "execution_count": 2,
   "metadata": {},
   "outputs": [
    {
     "name": "stdout",
     "output_type": "stream",
     "text": [
      "Polynomial of degree 2 and two features x_0 and x_1\n",
      "['1', 'x0', 'x1', 'x0^2', 'x0 x1', 'x1^2']\n"
     ]
    }
   ],
   "source": [
    "from sklearn import linear_model\n",
    "from sklearn.preprocessing import PolynomialFeatures\n",
    "from sklearn import datasets\n",
    "import numpy as np\n",
    "\n",
    "# Load data\n",
    "diabetes = datasets.load_diabetes()\n",
    "# Use only one feature\n",
    "#print(diabetes.data[:,2:4].shape)\n",
    "#diabetes_X = diabetes.data[:, np.newaxis, 2:3]\n",
    "diabetes_X = diabetes.data[:, 2:4]\n",
    "#print(diabetes_X.shape)\n",
    "# Split the data into training/testing sets\n",
    "diabetes_X_train = diabetes_X[:-20]\n",
    "diabetes_X_test = diabetes_X[-20:]\n",
    "# Split the targets into training/testing sets\n",
    "diabetes_y_train = diabetes.target[:-20]\n",
    "diabetes_y_test = diabetes.target[-20:]\n",
    "\n",
    "linear = linear_model.LinearRegression()\n",
    "poly = PolynomialFeatures(degree=2, interaction_only=False)\n",
    "x_poly_train = poly.fit_transform(diabetes_X_train)\n",
    "linear.fit(x_poly_train, diabetes_y_train)\n",
    "print(r\"Polynomial of degree 2 and two features x_0 and x_1\")\n",
    "print(poly.get_feature_names())"
   ]
  },
  {
   "cell_type": "markdown",
   "metadata": {},
   "source": [
    "<br><br>\n",
    "# Key Take Away\n",
    "<br>\n",
    "Use a non-linear function in the input features."
   ]
  }
 ],
 "metadata": {
  "kernelspec": {
   "display_name": "Python 3",
   "language": "python",
   "name": "python3"
  },
  "language_info": {
   "codemirror_mode": {
    "name": "ipython",
    "version": 3
   },
   "file_extension": ".py",
   "mimetype": "text/x-python",
   "name": "python",
   "nbconvert_exporter": "python",
   "pygments_lexer": "ipython3",
   "version": "3.5.0"
  }
 },
 "nbformat": 4,
 "nbformat_minor": 2
}
