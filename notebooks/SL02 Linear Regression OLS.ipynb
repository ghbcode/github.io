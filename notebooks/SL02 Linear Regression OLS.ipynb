{
 "cells": [
  {
   "cell_type": "markdown",
   "metadata": {},
   "source": [
    "# Linear Regression, OLS and the Normal Equation\n",
    "<br><br>\n",
    "Note that OLS stands for Ordinary Least Squares and that it is analogous to the term \"linear least squares.\" OLS tries to minimize the sum of squared distances between the regression estimate (the regression line) and each training data point. In linear regression we chose the following likelihood. Note that the notation below contains $\\theta$ and $w$. Think of $\\theta$ as 'all of the parameters in the model' and $w$ as the weights to apply to each feature $x_i$. So in this model the parameters are $w$ and the variance $\\sigma^2$.\n",
    "<br><br>\n",
    "$$P(y|x,\\theta) = N(y|w^Tx, \\sigma^2)$$ \n",
    "<br>\n",
    "$$\\theta_{OLS} = \\quad \\underset{\\theta}{\\mathrm{argmax}}\\quad log(P(Y|x,\\theta)) \\\\\n",
    "=\\quad \\underset{\\theta}{\\mathrm{argmin}}\\quad -log(P(Y|x,\\theta))\\\\\n",
    "= \\underset{\\theta}{\\mathrm{argmin}}\\quad -log \\prod_{i=1}^{N} P(y_i|x_i,\\theta) \\\\\n",
    "= \\underset{\\theta}{\\mathrm{argmin}}\\quad -\\sum_{i=1}^{N} log(P(y_i|x_i,\\theta))$$\n",
    "<br><br>\n",
    "Where $-log(P(Y|x,\\theta)$ is also referred to as 'NLL' for negative log likelihood. So plugging in the Gaussian distribution as per the given likelihood and assuming that we have N data points, we have (note the introduction of $w$ in the notation):\n",
    "<br><br>\n",
    "$$\\theta_{OLS} = \\underset{\\theta}{\\mathrm{argmin}}\\quad - \\sum_{i=1}^{N} log  \\frac{1}{\\sqrt{2\\pi\\sigma^2}}exp(\\frac{-(y_i - w^Tx_i)^2}{2\\sigma^2})\\\\\n",
    "= \\underset{\\theta}{\\mathrm{argmin}}\\quad - \\sum_{i=1}^{N} log [\\frac{1}{\\sqrt{2\\pi\\sigma^2}}] + log [exp(\\frac{-(y_i - w^Tx_i)^2}{2\\sigma^2})]\\\\\n",
    "= \\underset{\\theta}{\\mathrm{argmin}}\\quad - \\sum_{i=1}^{N} [log(1)-log(2\\pi\\sigma^2)^{1/2} - \\frac{-(y_i - w^Tx_i)^2}{2\\sigma^2}]\\\\\n",
    "= \\underset{\\theta}{\\mathrm{argmin}}\\quad \\sum_{i=1}^{N} [0+\\frac{log(2\\pi\\sigma^2)}{2} + \\frac{-(y_i - w^Tx_i)^2}{2\\sigma^2}]\\\\\n",
    "= \\underset{\\theta}{\\mathrm{argmin}}\\quad \\sum_{i=1}^{N} \\frac{log(2\\pi\\sigma^2)}{2} + \\sum_{i=1}^{D} \\frac{-(y_i - w^Tx_i)^2}{2\\sigma^2}\\\\\n",
    "= \\underset{\\theta}{\\mathrm{argmin}}\\quad \\frac{N}{2}log(2\\pi\\sigma^2) + \\frac{1}{2\\sigma^2} \\sum_{i=1}^{D} -(y_i - w^Tx_i)^2\\\\\n",
    "= \\underset{\\theta}{\\mathrm{argmin}}\\quad someconstant + \\frac{1}{2\\sigma^2} ||y-w^Tx||_{2}^{2}\\\\\n",
    "= \\underset{\\theta}{\\mathrm{argmin}}\\quad someconstant + \\frac{1}{2\\sigma^2} RSS(w)\n",
    "$$\n",
    "<br><br>\n",
    "Where **RSS** stands for residual sum of squares. Note that RSS is also called the sum of squared errors(**SSE**), and that SSE/N is called the mean squared error or **MSE**.\n",
    "<br>"
   ]
  },
  {
   "cell_type": "markdown",
   "metadata": {},
   "source": [
    "# Normal Equation\n",
    "<br>\n",
    "Since the OLS likelihood produces a convex, continuous function with a unique minimum we can actually find a closed form solution. That is when the Normal Equation comes in. If we use matrix algebra we arrive at $\\theta_{OLS}$ as per below.\n",
    "<br><br>\n",
    "$$\n",
    "\\theta_{OLS} = \\underset{w}{\\mathrm{argmin}} \\quad NLL(w)\\\\\n",
    "= \\frac{1}{2}(y-X)T(y-Xw)\\\\\n",
    "= \\frac{1}{2}w^T(X^TX)w - w^T(X^Ty)\n",
    "$$\n",
    "<br><br>\n",
    "Taking the gradient of $w$ which is the same as taking the partial derivative w.r.t. $w$ we get:\n",
    "<br><br>\n",
    "$$\n",
    "g(w) = (X^TXw - X^Ty)\\\\\n",
    "=\\sum_{i=1}^{N}x_i(w^Tx_i-y_i)\n",
    "$$\n",
    "<br><br>\n",
    "Finally, we set the gradient of $w$ equal to zero and get:\n",
    "<br><br>\n",
    "$$\n",
    "X^TXw = X^Ty\\\\\n",
    "w = w_{OLS} = (X^TX)^{-1}XTy\n",
    "$$\n",
    "<br><br>\n",
    "And to reiterate, $w_{OLS} = w_{MLE}$ when the likelihood is normally distributed. Leaving aside the details, below is sample code for computing $w$ using the normal equation. Assume that 'x_train' has your training samples and 'y_train' has the corresponding labels. \n",
    "<br>\n",
    "> xTx = x_train.T.dot(x_train)<br>\n",
    "> XtX = np.linalg.inv(xTx)<br>\n",
    "> w_ols = XtX.dot(x_train.T).dot(y_train)"
   ]
  },
  {
   "cell_type": "markdown",
   "metadata": {},
   "source": [
    "# Linear Regression with scikit-learn"
   ]
  },
  {
   "cell_type": "code",
   "execution_count": 2,
   "metadata": {},
   "outputs": [
    {
     "name": "stderr",
     "output_type": "stream",
     "text": [
      "/Users/gonzalobriceno/venvp3/lib/python3.5/site-packages/scipy/linalg/basic.py:884: RuntimeWarning: internal gelsd driver lwork query error, required iwork dimension not returned. This is likely the result of LAPACK bug 0038, fixed in LAPACK 3.2.2 (released July 21, 2010). Falling back to 'gelss' driver.\n",
      "  warnings.warn(mesg, RuntimeWarning)\n"
     ]
    },
    {
     "data": {
      "image/png": "[encoded data removed]",
      "text/plain": [
       "<matplotlib.figure.Figure at 0x10b2c54e0>"
      ]
     },
     "metadata": {},
     "output_type": "display_data"
    }
   ],
   "source": [
    "from sklearn import datasets\n",
    "from sklearn import linear_model\n",
    "import matplotlib.pyplot as plt\n",
    "import seaborn as sns\n",
    "import numpy as np\n",
    "sns.set(color_codes=True)\n",
    "%matplotlib inline\n",
    "\n",
    "lr = linear_model.LinearRegression()\n",
    "# Load the diabetes dataset\n",
    "diabetes = datasets.load_diabetes()\n",
    "# Use only one feature\n",
    "diabetes_X = diabetes.data[:, np.newaxis, 2]\n",
    "# Split the data into training/testing sets\n",
    "diabetes_X_train = diabetes_X[:-20]\n",
    "diabetes_X_test = diabetes_X[-20:]\n",
    "# Split the targets into training/testing sets\n",
    "diabetes_y_train = diabetes.target[:-20]\n",
    "diabetes_y_test = diabetes.target[-20:]\n",
    "\n",
    "# Train the model using the training sets\n",
    "lr.fit(diabetes_X_train, diabetes_y_train)\n",
    "\n",
    "# Make predictions using the training set. You would use the testing set but this is for illustrative purposes only.\n",
    "diabetes_pred = lr.predict(diabetes_X_train)\n",
    "\n",
    "# Plot outputs\n",
    "plt.scatter(diabetes_X_test, diabetes_y_test,  color='black')\n",
    "plt.plot(diabetes_X_train, diabetes_pred, color='blue', linewidth=3)\n",
    "plt.xlabel(\"Measured\")\n",
    "plt.ylabel(\"Prediction\")\n",
    "plt.title(\"Diabetes data (scatter) vs. linear regression estimate\")\n",
    "plt.show()"
   ]
  },
  {
   "cell_type": "markdown",
   "metadata": {},
   "source": [
    "Final note. I've heard the question, 'what is the difference between LinearRegression and Stochastic Gradient Descent(SGD)/Gradient Descent(GD)'? Since linear regression has a closed form solution that is the best, least computationally intensive to go about finding a solution. Gradient Descent is an iterative method to minimize a cost function so it can be used to find the MLE by minimizing the SSE. So Gradient Descent could very well be used to solve a linear regression problem, among others. The posts below cover these topics as well: \n",
    "* [Quora - linear regression vs. gradient descent](https://www.quora.com/How-are-linear-regression-and-gradient-descent-related-is-gradient-descent-a-type-of-linear-regression-and-is-it-similar-to-ordinary-least-squares-OLS-and-generalized-least-squares-GLS)\n",
    "* https://sdsawtelle.github.io/blog/output/week2-andrew-ng-machine-learning-with-python.html\n",
    "\n",
    "<br><br>\n",
    "# Key Take Away\n",
    "<br>\n",
    "Produce a regression point estimate. Note that you could use linear regression of gradient descent with the linear regression input parameter."
   ]
  },
  {
   "cell_type": "code",
   "execution_count": 3,
   "metadata": {},
   "outputs": [
    {
     "data": {
      "text/plain": [
       "(422, 1)"
      ]
     },
     "execution_count": 3,
     "metadata": {},
     "output_type": "execute_result"
    }
   ],
   "source": [
    "diabetes_X_train.shape"
   ]
  },
  {
   "cell_type": "code",
   "execution_count": 4,
   "metadata": {},
   "outputs": [
    {
     "data": {
      "text/plain": [
       "(422,)"
      ]
     },
     "execution_count": 4,
     "metadata": {},
     "output_type": "execute_result"
    }
   ],
   "source": [
    "diabetes_y_train.shape"
   ]
  },
  {
   "cell_type": "code",
   "execution_count": null,
   "metadata": {},
   "outputs": [],
   "source": []
  }
 ],
 "metadata": {
  "kernelspec": {
   "display_name": "Python 3",
   "language": "python",
   "name": "python3"
  },
  "language_info": {
   "codemirror_mode": {
    "name": "ipython",
    "version": 3
   },
   "file_extension": ".py",
   "mimetype": "text/x-python",
   "name": "python",
   "nbconvert_exporter": "python",
   "pygments_lexer": "ipython3",
   "version": "3.5.0"
  }
 },
 "nbformat": 4,
 "nbformat_minor": 2
}
