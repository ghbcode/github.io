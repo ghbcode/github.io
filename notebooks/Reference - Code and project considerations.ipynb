{
 "cells": [
  {
   "cell_type": "markdown",
   "metadata": {},
   "source": [
    "## Document your code and whenever possible treat it like a package\n",
    "\n",
    "Surely there are various things to keep in mind when writing code outside of the code itself. Leaving aside several topics each of which is very important, such as coding language, architecture, using a database and so on, in my opinion it is crucial to document your code liberally and to put it in a repository structure. So if you are writing code that is self contained within a single file then perhaps your only consideration will be to properly comment and structure your code. If you are working on a larger project then in addition to properly commenting and structuring your code, you may want to pay attention to the code's repository structure (see second bullet point). Below are a few resources that I've found to be useful:\n",
    "\n",
    "* [How to properly comment your code](http://docs.python-guide.org/en/latest/writing/documentation/)\n",
    "* [How to properly structure your repository files](http://docs.python-guide.org/en/latest/writing/structure/)\n",
    "  * In particular I like the structure proposed in the document. Even if your project is rather small, I would try to follow this structure whenever possible. You will be glad that you did a few months later when you look at the project with maybe little recollection of the details.\n",
    "\n",
    "```\n",
    "README.rst\n",
    "LICENSE\n",
    "setup.py\n",
    "requirements.txt\n",
    "sample/__init__.py\n",
    "sample/core.py\n",
    "sample/helpers.py\n",
    "docs/conf.py\n",
    "docs/index.rst\n",
    "tests/test_basic.py\n",
    "tests/test_advanced.py\n",
    "```"
   ]
  }
 ],
 "metadata": {
  "kernelspec": {
   "display_name": "Python 3",
   "language": "python",
   "name": "python3"
  },
  "language_info": {
   "codemirror_mode": {
    "name": "ipython",
    "version": 3
   },
   "file_extension": ".py",
   "mimetype": "text/x-python",
   "name": "python",
   "nbconvert_exporter": "python",
   "pygments_lexer": "ipython3",
   "version": "3.5.0"
  }
 },
 "nbformat": 4,
 "nbformat_minor": 2
}
