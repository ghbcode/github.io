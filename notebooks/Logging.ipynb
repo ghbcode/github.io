{
 "cells": [
  {
   "cell_type": "markdown",
   "metadata": {},
   "source": [
    "# Logging for more robust and fixable code\n",
    "<br>\n",
    "\n",
    "This example shows how to use the python logging package so that you can log results to a log file as well as to the console. Though it may look to be extraneous, this will be very useful when troubleshooting code that ran in the past for example. "
   ]
  },
  {
   "cell_type": "code",
   "execution_count": 1,
   "metadata": {},
   "outputs": [
    {
     "name": "stderr",
     "output_type": "stream",
     "text": [
      "INFO - Start logging for application SomeApp at 2018-01-20 15:52:00.520289.\n"
     ]
    }
   ],
   "source": [
    "from datetime import datetime\n",
    "import logging\n",
    "import pandas as pd\n",
    "import warnings\n",
    "\n",
    "warnings.filterwarnings('ignore')\n",
    "input_file = \"somefile.csv\"\n",
    "applicationName = \"SomeApp\"\n",
    "\n",
    "# Logging\n",
    "def log(applicationName):\n",
    "    # define logging to file \n",
    "    logging.basicConfig(level=logging.DEBUG,\n",
    "                        format='%(asctime)s, %(name)s, %(levelname)s, %(message)s',\n",
    "                        datefmt='%m-%d-%Y %H:%M:%S',\n",
    "                        filename='log_' + applicationName + '.log',\n",
    "                        filemode='a')\n",
    "\n",
    "    # define logging to console\n",
    "    logger = logging.getLogger(applicationName)\n",
    "    # create formatter and add it to the handlers\n",
    "    formatter = logging.Formatter('%(levelname)s - %(message)s')\n",
    "    # define a Handler which writes INFO messages or higher to the sys.stderr/console\n",
    "    consolelog = logging.StreamHandler()\n",
    "    consolelog.setLevel(logging.INFO)\n",
    "    consolelog.setFormatter(formatter)\n",
    "     \n",
    "    # add the handlers to logger\n",
    "    logger.addHandler(consolelog)\n",
    "\n",
    "    return logger\n",
    "\n",
    "logger = log(applicationName)\n",
    "logger.info(\"Start logging for application {0} at {1}.\".format(applicationName, datetime.now()))"
   ]
  },
  {
   "cell_type": "code",
   "execution_count": 2,
   "metadata": {},
   "outputs": [
    {
     "name": "stderr",
     "output_type": "stream",
     "text": [
      "INFO - Attempting to read the input file somefile.csv for parsing.\n",
      "WARNING - Could not find the input file somefile.csv for parsing.\n"
     ]
    }
   ],
   "source": [
    "try:\n",
    "    logger.info('Attempting to read the input file {0} for parsing.'.format(input_file))\n",
    "    # Read the csv to a pandas parser. Due to file structure, skip the top 3 and bottom rows\n",
    "    csv = pd.read_csv(input_file, skiprows=3, skip_footer=1)\n",
    "except:\n",
    "    logger.warning('Could not find the input file {0} for parsing.'.format(input_file))"
   ]
  },
  {
   "cell_type": "markdown",
   "metadata": {},
   "source": [
    "<br>\n",
    "<br>\n",
    "\n",
    "The output below shows the information that was logged to the file. Note that this is the same as the console output. "
   ]
  },
  {
   "cell_type": "code",
   "execution_count": 3,
   "metadata": {},
   "outputs": [
    {
     "name": "stdout",
     "output_type": "stream",
     "text": [
      "   01-20-2018 15:52:00   SomeApp      INFO  \\\n",
      "0  01-20-2018 15:52:08   SomeApp      INFO   \n",
      "1  01-20-2018 15:52:08   SomeApp   WARNING   \n",
      "\n",
      "   Start logging for application SomeApp at 2018-01-20 15:52:00.520289.  \n",
      "0   Attempting to read the input file somefile.cs...                     \n",
      "1   Could not find the input file somefile.csv fo...                     \n"
     ]
    }
   ],
   "source": [
    "log_file = pd.read_csv('log_' + applicationName + '.log')\n",
    "print(log_file)"
   ]
  }
 ],
 "metadata": {
  "kernelspec": {
   "display_name": "Python 3",
   "language": "python",
   "name": "python3"
  },
  "language_info": {
   "codemirror_mode": {
    "name": "ipython",
    "version": 3
   },
   "file_extension": ".py",
   "mimetype": "text/x-python",
   "name": "python",
   "nbconvert_exporter": "python",
   "pygments_lexer": "ipython3",
   "version": "3.5.0"
  }
 },
 "nbformat": 4,
 "nbformat_minor": 2
}
