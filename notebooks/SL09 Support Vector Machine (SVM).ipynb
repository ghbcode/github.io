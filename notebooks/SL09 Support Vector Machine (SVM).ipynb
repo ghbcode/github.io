{
 "cells": [
  {
   "cell_type": "markdown",
   "metadata": {},
   "source": [
    "# Support Vector Machine (SVM)\n",
    "<br><br>\n",
    "Support vector machine models can be used for classification, regression and detecting outliers.  In practice though, SVMs are mostly used for classification purposes. SVM finds the hyperplane that best separates two classes. Generally 'best separates' means that SVM finds the hyperplane that is as equi-distant from each class as possible. In the picture below from wikipedia this 'maximum margin' concept is depicted.\n",
    "<br>\n",
    "![svm](https://upload.wikimedia.org/wikipedia/commons/thumb/2/2a/Svm_max_sep_hyperplane_with_margin.png/330px-Svm_max_sep_hyperplane_with_margin.png)\n",
    "<br><br>\n",
    "SVMs can make use of different kernel functions (a topic unto itself) as the decision function of a particular SVM implementation; this lends flexibility to SVM. So how does SVM work?\n",
    "<br>\n",
    "<br>\n",
    "- SVM first finds the hyperplane that best separates both classes\n",
    "  - Note that at this stage SVM has not computed the 'maximum margin' yet\n",
    "- Then SVM readjusts this plane slightly to arrive at the best/maximum margin hyperplane"
   ]
  },
  {
   "cell_type": "markdown",
   "metadata": {},
   "source": [
    "Note that when SVM encounters a non-separable problem it employs what is knows as the 'kernel trick'. What the kernel trick does is to take a low dimensional input space and turn it into a higher dimensional input space. In the image below the kernel trick is to change the basis function to $\\phi(a,b) = \\{a, b, a^2+b^2\\}$ so that instead of creating a hyperplane, SVM is creating a circle such that the linearly separable data in red can be correctly classified.\n",
    "<br><br> \n",
    "![kernel trick](https://upload.wikimedia.org/wikipedia/commons/thumb/c/cc/Kernel_trick_idea.svg/1260px-Kernel_trick_idea.svg.png)\n",
    "<br>"
   ]
  },
  {
   "cell_type": "code",
   "execution_count": 1,
   "metadata": {},
   "outputs": [
    {
     "name": "stdout",
     "output_type": "stream",
     "text": [
      "SVM: Test set accuracy (R^2) = 0.440\n"
     ]
    }
   ],
   "source": [
    "'''\n",
    "In this example we are reading in a house description and sale dataset. For this classification we are going to \n",
    "estimate whether a house will sell(and with what probability) within 90 days of being put on the market.\n",
    "'''\n",
    "import numpy as np\n",
    "import pandas as pd\n",
    "import matplotlib.pyplot as plt\n",
    "from sklearn.svm import LinearSVC\n",
    "from sklearn.model_selection import train_test_split\n",
    "\n",
    "# this data has already been cleaned up, standardized, one hot encoded and vetted\n",
    "df = pd.read_csv(\"classification_house_sale_px_data.csv\", parse_dates=True, sep=',', header=0)\n",
    "df_labels = pd.read_csv(\"classification_house_sale_px_labels.csv\", parse_dates=True, sep=',', header=0)\n",
    "\n",
    "# split data into training and test sets\n",
    "train, test, y_train, y_test = train_test_split(df, df_labels, train_size=.6, test_size=.4, shuffle=True)\n",
    "\n",
    "# run the classifier on the training data\n",
    "clf = LinearSVC(random_state=0, C=1e5, penalty=\"l2\", loss=\"hinge\", dual=True)\n",
    "clf.fit(train, list(y_train.label.values))\n",
    "# make prediction on the test data\n",
    "#predicted = clf.predict(test)\n",
    "print(\"SVM: Test set accuracy (R^2) = {0:.3f}\".format(clf.score(test, y_test.label.values)))"
   ]
  },
  {
   "cell_type": "markdown",
   "metadata": {},
   "source": [
    "<br>\n",
    "Note that SVM is scoring lower than a simple decision tree as per the previous notebook.\n",
    "<br>\n",
    "\n",
    "# Take away\n",
    "- SVM are flexible since different kernel functions may be used as the decision function.\n",
    "- SVM are robust to outliers by design\n",
    "- SVM classification does not provide probability measures "
   ]
  }
 ],
 "metadata": {
  "kernelspec": {
   "display_name": "Python 3",
   "language": "python",
   "name": "python3"
  },
  "language_info": {
   "codemirror_mode": {
    "name": "ipython",
    "version": 3
   },
   "file_extension": ".py",
   "mimetype": "text/x-python",
   "name": "python",
   "nbconvert_exporter": "python",
   "pygments_lexer": "ipython3",
   "version": "3.5.0"
  }
 },
 "nbformat": 4,
 "nbformat_minor": 2
}
