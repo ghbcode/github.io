{
 "cells": [
  {
   "cell_type": "code",
   "execution_count": 1,
   "metadata": {},
   "outputs": [],
   "source": [
    "import pandas as pd\n",
    "from fredapi import Fred\n",
    "import datetime as dt\n",
    "# set up Fred key else queries do not work\n",
    "fred = Fred(api_key='f8f51ce370435c6bfc0c78d053dfd7fe')"
   ]
  },
  {
   "cell_type": "code",
   "execution_count": 4,
   "metadata": {},
   "outputs": [
    {
     "name": "stdout",
     "output_type": "stream",
     "text": [
      "Ticker id = BAMLCC0A4BBBTRIV, start_date = 1988-12-15T16:00:00.000000000-0800, end_date = 2017-12-12T16:00:00.000000000-0800\n",
      "2017-12-07    814.87\n",
      "2017-12-08    814.90\n",
      "2017-12-11    815.20\n",
      "2017-12-12    814.95\n",
      "2017-12-13    817.86\n",
      "dtype: float64\n"
     ]
    }
   ],
   "source": [
    "# Search for the ticker by description\n",
    "ticker_description = 'BofA Merrill Lynch US Corp BBB Total Return Index Value'\n",
    "ticker_info = fred.search(ticker_description)\n",
    "if ticker_info is None:\n",
    "    print(\"Did not find ticker by searching the text '{0}'. Pleave revise your search.\".format(ticker_description))\n",
    "else:\n",
    "    ticker_id = ticker_info['id'].values[0]\n",
    "    ticker_start = ticker_info['observation_start'].values[0]\n",
    "    ticker_end = ticker_info['observation_end'].values[0]\n",
    "    print(\"Ticker id = {0}, start_date = {1}, end_date = {2}\".format(ticker_id, ticker_start, ticker_end))\n",
    "    try:\n",
    "        # query the information from FRED\n",
    "        s = fred.get_series(ticker_id, observation_start=ticker_start, observation_end=ticker_end)\n",
    "        print(s.tail())\n",
    "        # Save daily close file since inception\n",
    "        s.to_csv(ticker_id+\".csv\")\n",
    "        # Save quarterly file. Note that the series does not have a quarterly frequency so I'm simply selecting the \n",
    "        # quarter dates to save.\n",
    "        pd.Series(s, pd.date_range('2013-01-05', dt.datetime.now(), freq='Q')).to_csv(ticker_id+\"_quarterly.csv\")\n",
    "    except: \n",
    "        print(\"Problem downloading '{0}' series\".format(ticker_id))"
   ]
  },
  {
   "cell_type": "code",
   "execution_count": 32,
   "metadata": {},
   "outputs": [
    {
     "name": "stdout",
     "output_type": "stream",
     "text": [
      "<class 'NoneType'>\n"
     ]
    }
   ],
   "source": [
    "print(type(bad))"
   ]
  },
  {
   "cell_type": "code",
   "execution_count": 45,
   "metadata": {},
   "outputs": [
    {
     "name": "stdout",
     "output_type": "stream",
     "text": [
      "<class 'NoneType'>\n"
     ]
    }
   ],
   "source": [
    "good = fred.search(format(ticker_id))\n",
    "print(type(good))"
   ]
  },
  {
   "cell_type": "code",
   "execution_count": 37,
   "metadata": {},
   "outputs": [
    {
     "name": "stdout",
     "output_type": "stream",
     "text": [
      "no result\n"
     ]
    }
   ],
   "source": [
    "if bad is None:\n",
    "    print(\"no result\")"
   ]
  }
 ],
 "metadata": {
  "kernelspec": {
   "display_name": "Python 3",
   "language": "python",
   "name": "python3"
  },
  "language_info": {
   "codemirror_mode": {
    "name": "ipython",
    "version": 3
   },
   "file_extension": ".py",
   "mimetype": "text/x-python",
   "name": "python",
   "nbconvert_exporter": "python",
   "pygments_lexer": "ipython3",
   "version": "3.5.0"
  }
 },
 "nbformat": 4,
 "nbformat_minor": 2
}
