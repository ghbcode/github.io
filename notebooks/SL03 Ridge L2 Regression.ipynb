{
 "cells": [
  {
   "cell_type": "markdown",
   "metadata": {},
   "source": [
    "# Ridge (L2) Regression\n",
    "<br><br>\n",
    "In order to avoid overfitting we introduce 'Regularization' into our model in order to reduce the weights in our vector $w$. This is accomplished by using MAP estimation with a Gaussian/Normal prior. I.e.<br><br>\n",
    "$$P(w) = N(w_j|0, \\tau^2)$$ \n",
    "<br><br>\n",
    "Therefore, for Ridge Regression we have the following optimization/objective. Note that now we have a likelihood **and** a prior.\n",
    "<br><br>\n",
    "$$\\theta_{Ridge} = \\quad \\underset{w}{\\mathrm{argmax}}\\quad log(P(Y|x,w)P(w))\\\\\n",
    "= \\underset{\\theta}{\\mathrm{argmin}}\\quad - \\sum_{i=1}^{N} log[\\frac{1}{\\sqrt{2\\pi\\sigma^2}}exp(\\frac{-(y_i - w^Tx_i)^2}{2\\sigma^2})] - \\sum_{j=1}^{D}log[\\frac{1}{\\sqrt{2\\pi\\tau^2}}exp(\\frac{-(w_j)^2}{2\\tau^2})]\\\\\n",
    "= \\underset{\\theta}{\\mathrm{argmin}}\\quad - \\sum_{i=1}^{N} log[\\frac{1}{\\sqrt{2\\pi\\sigma^2}}] + log [exp(\\frac{-(y_i - w^Tx_i)^2}{2\\sigma^2})] - \\sum_{j=1}^{D} log[\\frac{1}{\\sqrt{2\\pi\\tau^2}}] + log [exp(\\frac{-(w_j)^2}{2\\tau^2})]\\\\\n",
    "= \\underset{\\theta}{\\mathrm{argmin}}\\quad \\sum_{i=1}^{N} [\\frac{log(2\\pi\\sigma^2)}{2} + \\frac{(y_i - w^Tx_i)^2}{2\\sigma^2})] + \\sum_{j=1}^{D} [\\frac{log(2\\pi\\tau^2)}{2} + \\frac{(w_j)^2}{2\\tau^2}]\n",
    "$$\n",
    "<br><br> \n",
    "If you then:\n",
    "<br>\n",
    "* multiply by $2\\sigma^2$ \n",
    "* carry on with the algebra (see the linear regression notebook for more details)\n",
    "* drop constants since they do NOT affect the minimization \n",
    "* minimize the objective, i.e. take the partial derivative w.r.t. w and set = 0\n",
    "<br>\n",
    "you will arrive at the following:\n",
    "<br><br>\n",
    "$$\\theta_{Ridge} = \\frac{1}{N} \\sum_{i=1}^{N} (y_i - (w_0 + w^Tx_i))^2 + \\lambda||w||_{2}^{2}\\\\\n",
    "= \\frac{1}{N} \\sum_{i=1}^{N} (y_i - (w_0 + w^Tx_i))^2 + Complexity\\space Penalty\\\\\n",
    "$$\n",
    "<br>\n",
    "where $\\lambda = \\frac{\\sigma^2}{\\tau^2}, \\lambda\\geq0$ and $||w||_{2}^{2} = \\sum_{j=1}^{D}w_j^2 = w^Tw$.\n",
    "<br><br>\n",
    "And by the same method used to compute the normal equation in the linear regression notebook, we find the solution:\n",
    "<br><br>\n",
    "$$w_{Ridge} = (\\lambda I_D + X^TX)^{-1}X^Ty $$\n",
    "<br><br>\n",
    "Leaving aside the details, below is sample code for computing $w_{Ridge}$ using the normal equation. Assume that 'x_train' has your training samples and 'y_train' has the corresponding labels. \n",
    "<br>\n",
    "    > l = .5 # lambda value<br>\n",
    "    > dim = 3 # used to create I vector<br>\n",
    "    > reg = np.matrix(np.eye(dim,dim)*l)<br>\n",
    "    > xTx = x_train.T.dot(x_train)+reg<br>\n",
    "    > XtX = np.linalg.inv(xTx)<br>\n",
    "    > w_ridge = XtX.dot(pd.DataFrame((x_train.T).dot(y_train)))"
   ]
  },
  {
   "cell_type": "markdown",
   "metadata": {},
   "source": [
    "Ultimately what the 'Complexity Penalty' (via the MAP estimation) did was to increase the value of the $w_{Ridge}$ expression as can be appreciated by the second term. As a result, the minimization step will reduce the weight of each w thereby reduce overfitting. In the example below see how the l2 regularizer 'flattens' the linear regression curve and the higher the alpha parameter (the $\\lambda$ in the expressions above) the flatter the curve. Note that the Complexity Penalty applies to all of the weights except for $w_0$ since that is the bias term. The bias term only shifts your curve/estimate up or down and has nothing to do with overfitting. \n",
    "<br><br>\n",
    "# Ridge Regression with scikit-learn"
   ]
  },
  {
   "cell_type": "code",
   "execution_count": 9,
   "metadata": {},
   "outputs": [
    {
     "data": {
      "image/png": "[encoded data removed]",
      "text/plain": [
       "<matplotlib.figure.Figure at 0x1142f6278>"
      ]
     },
     "metadata": {},
     "output_type": "display_data"
    }
   ],
   "source": [
    "from sklearn import datasets\n",
    "from sklearn import linear_model\n",
    "import matplotlib.pyplot as plt\n",
    "import seaborn as sns\n",
    "import numpy as np\n",
    "sns.set(color_codes=True)\n",
    "%matplotlib inline\n",
    "\n",
    "# Load the diabetes dataset\n",
    "diabetes = datasets.load_diabetes()\n",
    "# Use only one feature\n",
    "diabetes_X = diabetes.data[:, np.newaxis, 2]\n",
    "# Split the data into training/testing sets\n",
    "diabetes_X_train = diabetes_X[:-20]\n",
    "diabetes_X_test = diabetes_X[-20:]\n",
    "# Split the targets into training/testing sets\n",
    "diabetes_y_train = diabetes.target[:-20]\n",
    "diabetes_y_test = diabetes.target[-20:]\n",
    "\n",
    "# Train the model using the training set\n",
    "model = linear_model.Ridge(alpha=.5)\n",
    "model.fit(diabetes_X_train, diabetes_y_train)\n",
    "# Make predictions using the training set.\n",
    "diabetes_pred_ridge = model.predict(diabetes_X_train)\n",
    "# Repeat the training with a higher alpha for illustration purposes\n",
    "model = linear_model.Ridge(alpha=25)\n",
    "model.fit(diabetes_X_train, diabetes_y_train)\n",
    "diabetes_pred_ridge2 = model.predict(diabetes_X_train)\n",
    "\n",
    "# Do the linear regression for comparison only\n",
    "lr = linear_model.LinearRegression()\n",
    "lr.fit(diabetes_X_train, diabetes_y_train)\n",
    "diabetes_pred_lr = lr.predict(diabetes_X_train)\n",
    "\n",
    "# Plot outputs\n",
    "plt.scatter(diabetes_X_test, diabetes_y_test,  color='black')\n",
    "plt.plot(diabetes_X_train, diabetes_pred_ridge, color='blue', linewidth=2, label=r\"Ridge reg. $\\alpha$=.5\")\n",
    "plt.plot(diabetes_X_train, diabetes_pred_ridge2, color='red', linewidth=2, label=r\"Ridge reg. $\\alpha$=25\")\n",
    "plt.plot(diabetes_X_train, diabetes_pred_lr, color='black', linewidth=2, label=\"Linear reg.\")\n",
    "plt.xlabel(\"Measured\")\n",
    "plt.ylabel(\"Prediction\")\n",
    "plt.title(\"Diabetes data (scatter) vs. linear regression estimate\")\n",
    "plt.legend(loc=\"best\")\n",
    "plt.show()"
   ]
  },
  {
   "cell_type": "markdown",
   "metadata": {},
   "source": [
    "<br><br>\n",
    "# Key Take Away\n",
    "<br>\n",
    "Penalize complexity via the second term in the NLL(w)."
   ]
  }
 ],
 "metadata": {
  "kernelspec": {
   "display_name": "Python 3",
   "language": "python",
   "name": "python3"
  },
  "language_info": {
   "codemirror_mode": {
    "name": "ipython",
    "version": 3
   },
   "file_extension": ".py",
   "mimetype": "text/x-python",
   "name": "python",
   "nbconvert_exporter": "python",
   "pygments_lexer": "ipython3",
   "version": "3.5.0"
  }
 },
 "nbformat": 4,
 "nbformat_minor": 2
}
