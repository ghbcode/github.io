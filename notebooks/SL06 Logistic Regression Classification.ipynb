{
 "cells": [
  {
   "cell_type": "markdown",
   "metadata": {},
   "source": [
    "# Logistic Regression is Classification\n",
    "<br><br>\n",
    "Logistic Regression is used for classification. If you have data that falls within two categories, say 1 or 0, you can use the following model:\n",
    "<br><br>\n",
    "$$P(y|x, w) = Ber(y|sigm(w^Tx))$$\n",
    "<br>\n",
    "where Ber() is the Bernoulli distribution whose pmf is $f(k,p) = p^k(1-p)^{1-k}, k \\in \\{0,1\\} $ and $p$ is the probability of k = 1. $Sigm$ is the sigmoid function characterized as: \n",
    "<br>\n",
    "$$s(x) = \\frac{1}{1 + e^{-x}} = \\frac{e^x}{e^x + 1} $$\n",
    "<br><br>\n",
    "Note that the $s(-\\infty)=0$, $s(0)=.5$ and $s(\\infty)=1$. So in the image below which is taken from the book 'Machine Learning: A probabilistic Perspective by Kevin P. Murphy', the right most figure shows the data in the black dots. The x-axis is the SAT score of a group of students and the y-axis is whether or not they passed a particular test other than the SAT. So the data is showing that, for the most part, and this is important because the data is not completely separable, the higher the SAT score, the higher the likelihood of passing the other exam. The left figure shows the sigmoid function. So in the right figure logistic regression is shown by the red circles. If you were to run a linear regression on the data you would see a line like the green one on the right figure. As you can see, logistic regression does a better job of fitting the data.\n",
    "<br>\n",
    "![logistic regression](logistic-regression.png)"
   ]
  },
  {
   "cell_type": "markdown",
   "metadata": {},
   "source": [
    "With all that in mind here is the derivation of the MLE expression for the logistic regression model. Remember that *NLL* stands for negative log likelihood.\n",
    "$$\\theta_{logistic \\space regression} = \\underset{w}{\\mathrm{argmax}} \\quad NLL(w)$$\n",
    "$$= - \\sum_{i=1}^{N} log[p_i^{\\mathbb{1}(y_i=1)}(1-p_i)^{\\mathbb{1}(y_i=0)}]$$\n",
    "$$= - \\sum_{i=1}^{N} y_ilog(p_i) + (1-y_i)log(1-p_i)$$\n",
    "<br><br> \n",
    "Note that $y_i \\in {0,1}$ or $y_i \\in \\{-1,1\\}$ and if you chose the latter you end up with the following sigmoid functions:\n",
    "<br><br>\n",
    "$p(y=-1) = \\frac{1}{1 + e^{x}}$ and $p(y=1) = \\frac{1}{1 + e^{-x}}$\n",
    "<br><br>\n",
    "so that solution becomes:\n",
    "<br><br>\n",
    "$$NLL(w) = - \\sum_{i=1}^{N} log(1+e^{y_iw^Tx})$$\n",
    "<br><br>\n",
    "The *NLL(w)* expression no longer has a closed form solution. You need the gradient and Hessian in order to use optimization to compute the solution.\n",
    "<br>"
   ]
  },
  {
   "cell_type": "code",
   "execution_count": 58,
   "metadata": {},
   "outputs": [
    {
     "data": {
      "image/png": "[encoded data removed]",
      "text/plain": [
       "<matplotlib.figure.Figure at 0x11169a630>"
      ]
     },
     "metadata": {},
     "output_type": "display_data"
    }
   ],
   "source": [
    "import numpy as np\n",
    "import matplotlib.pyplot as plt\n",
    "from sklearn import linear_model\n",
    "\n",
    "# this is our test set, it's just a straight line with some\n",
    "# Gaussian noise\n",
    "xmin, xmax = -5, 5\n",
    "n_samples = 100\n",
    "np.random.seed(0)\n",
    "X = np.random.normal(size=n_samples)\n",
    "y = (X > 0).astype(np.float)\n",
    "X[X > 0] *= 4\n",
    "X += .3 * np.random.normal(size=n_samples)\n",
    "\n",
    "X = X[:, np.newaxis]\n",
    "# run the classifier\n",
    "clf = linear_model.LogisticRegression(C=1e5)\n",
    "clf.fit(X, y)\n",
    "# and plot the result\n",
    "plt.figure(1, figsize=(8, 6))\n",
    "plt.clf()\n",
    "plt.scatter(X.ravel(), y, color='black', zorder=20)\n",
    "X_test = np.linspace(-5, 10, 300)\n",
    "\n",
    "def model(x):\n",
    "    return 1 / (1 + np.exp(-x))\n",
    "loss = model(X_test * clf.coef_ + clf.intercept_).ravel()\n",
    "plt.plot(X_test, loss, color='red', linewidth=3, label='lo')\n",
    "\n",
    "ols = linear_model.LinearRegression()\n",
    "ols.fit(X, y)\n",
    "plt.plot(X_test, ols.coef_ * X_test + ols.intercept_, linewidth=3, color='blue', label='lr')\n",
    "plt.axhline(.5, color='.5')\n",
    "\n",
    "\n",
    "plt.ylabel('y')\n",
    "plt.xlabel('X')\n",
    "plt.xticks(range(-5, 10))\n",
    "plt.yticks([0, 0.5, 1])\n",
    "plt.ylim(-.25, 1.25)\n",
    "plt.xlim(-4, 10)\n",
    "plt.legend(('Logistic Regression Model', 'Linear Regression Model', 'Data'), \n",
    "           loc=\"lower right\", fontsize='small')\n",
    "plt.show()"
   ]
  },
  {
   "cell_type": "markdown",
   "metadata": {},
   "source": [
    "<br><br>\n",
    "# Key Take Away\n",
    "<br>\n",
    "Logistic Regression is classification, not regression. It uses the Bernoulli distribution and sigmoid function to provide a probability measure."
   ]
  },
  {
   "cell_type": "code",
   "execution_count": 62,
   "metadata": {},
   "outputs": [
    {
     "name": "stdout",
     "output_type": "stream",
     "text": [
      "Logistic Regresion: Test set accuracy (R^2) = 0.561\n"
     ]
    }
   ],
   "source": [
    "'''\n",
    "In this example we are reading in a house description and sale dataset. For this classification we are going to \n",
    "estimate whether a house will sell(and with what probability) within 90 days of being put on the market.\n",
    "'''\n",
    "import numpy as np\n",
    "import pandas as pd\n",
    "import matplotlib.pyplot as plt\n",
    "from sklearn.linear_model import LogisticRegression\n",
    "from sklearn.model_selection import train_test_split\n",
    "\n",
    "# this data has already been cleaned up, standardized, one hot encoded and vetted\n",
    "df = pd.read_csv(\"classification_house_sale_px_data.csv\", parse_dates=True, sep=',', header=0)\n",
    "df_labels = pd.read_csv(\"classification_house_sale_px_labels.csv\", parse_dates=True, sep=',', header=0)\n",
    "\n",
    "# split data into training and test sets\n",
    "train, test, y_train, y_test = train_test_split(df, df_labels, train_size=.6, test_size=.4, shuffle=True)\n",
    "\n",
    "# run the classifier on the training data\n",
    "clf = LogisticRegression(C=1e5)\n",
    "clf.fit(train, list(y_train.label.values))\n",
    "# make prediction on the test data\n",
    "#predicted = clf.predict(test)\n",
    "print(\"Logistic Regresion: Test set accuracy (R^2) = {0:.3f}\".format(clf.score(test, y_test.label.values)))"
   ]
  }
 ],
 "metadata": {
  "kernelspec": {
   "display_name": "Python 3",
   "language": "python",
   "name": "python3"
  },
  "language_info": {
   "codemirror_mode": {
    "name": "ipython",
    "version": 3
   },
   "file_extension": ".py",
   "mimetype": "text/x-python",
   "name": "python",
   "nbconvert_exporter": "python",
   "pygments_lexer": "ipython3",
   "version": "3.5.0"
  }
 },
 "nbformat": 4,
 "nbformat_minor": 2
}
