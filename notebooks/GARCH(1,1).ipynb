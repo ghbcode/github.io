{
 "cells": [
  {
   "cell_type": "code",
   "execution_count": null,
   "metadata": {},
   "outputs": [],
   "source": [
    "import pandas as pd\n",
    "import numpy as np"
   ]
  },
  {
   "cell_type": "code",
   "execution_count": null,
   "metadata": {},
   "outputs": [],
   "source": [
    "# Read the input file and make sure to control how it is parsed into the dataframe\n",
    "df = pd.io.parsers.read_csv(\n",
    "    \"^VIX.csv\", \n",
    "    header=0, \n",
    "    delimiter=\",\", \n",
    "    index_col=0, \n",
    "    dtype = {\"VIX Close\": np.float64},\n",
    "    parse_dates=True)"
   ]
  },
  {
   "cell_type": "code",
   "execution_count": 3,
   "metadata": {},
   "outputs": [
    {
     "name": "stdout",
     "output_type": "stream",
     "text": [
      "column name 'Adj Close' and type <type 'numpy.float64'>\n",
      "column name 'Adj Close 30 day MA' and type <type 'numpy.float64'>\n",
      "column name 'pct_change' and type <type 'numpy.float64'>\n"
     ]
    }
   ],
   "source": [
    "for x in df.columns:\n",
    "    print \"column name '{0}' and type {1}\".format(x, type(df[x][0]))"
   ]
  },
  {
   "cell_type": "code",
   "execution_count": 4,
   "metadata": {},
   "outputs": [
    {
     "name": "stdout",
     "output_type": "stream",
     "text": [
      "            Adj Close  Adj Close 30 day MA  pct_change\n",
      "Date                                                  \n",
      "2013-10-28      13.31                  NaN         NaN\n",
      "            Adj Close  Adj Close 30 day MA  pct_change\n",
      "Date                                                  \n",
      "2016-03-07      17.35               21.614    0.029063\n"
     ]
    }
   ],
   "source": [
    "df['pct_change'] = df['Adj Close'].pct_change().dropna()\n",
    "'''\n",
    "The following cuts out the data, after the dropna() to begin on 11-26-2013\n",
    "#df['stdev21'] = pd.rolling_std(df['pct_change'], 21)\n",
    "#df['hvol21'] = df['stdev21']*(252**0.5) # Annualize.\n",
    "#df['variance'] = df['hvol21']**2\n",
    "#df = df.dropna() # Remove rows with blank cells.\n",
    "'''\n",
    "print df.head(1)\n",
    "print df.tail(1)"
   ]
  },
  {
   "cell_type": "code",
   "execution_count": 24,
   "metadata": {},
   "outputs": [
    {
     "name": "stdout",
     "output_type": "stream",
     "text": [
      "Iteration:      1,   Func. Count:      6,   Neg. LLF: -682.58357392\n",
      "Iteration:      2,   Func. Count:     17,   Neg. LLF: -682.876284392\n",
      "Iteration:      3,   Func. Count:     25,   Neg. LLF: -682.953021287\n",
      "Iteration:      4,   Func. Count:     33,   Neg. LLF: -682.982381962\n",
      "Iteration:      5,   Func. Count:     40,   Neg. LLF: -683.191461029\n",
      "Iteration:      6,   Func. Count:     47,   Neg. LLF: -683.381427785\n",
      "Iteration:      7,   Func. Count:     54,   Neg. LLF: -683.538189135\n",
      "Iteration:      8,   Func. Count:     61,   Neg. LLF: -683.677262506\n",
      "Iteration:      9,   Func. Count:     68,   Neg. LLF: -683.735219909\n",
      "Iteration:     10,   Func. Count:     75,   Neg. LLF: -683.813325195\n",
      "Iteration:     11,   Func. Count:     81,   Neg. LLF: -683.843713448\n",
      "Iteration:     12,   Func. Count:     87,   Neg. LLF: -683.876770719\n",
      "Iteration:     13,   Func. Count:     93,   Neg. LLF: -683.879250747\n",
      "Iteration:     14,   Func. Count:     99,   Neg. LLF: -683.87997163\n",
      "Iteration:     15,   Func. Count:    105,   Neg. LLF: -683.880162838\n",
      "Iteration:     16,   Func. Count:    111,   Neg. LLF: -683.880173309\n",
      "Optimization terminated successfully.    (Exit mode 0)\n",
      "            Current function value: -683.880173507\n",
      "            Iterations: 16\n",
      "            Function evaluations: 112\n",
      "            Gradient evaluations: 16\n"
     ]
    }
   ],
   "source": [
    "import arch\n",
    "returns = df['pct_change'].dropna()\n",
    "am = arch.univariate.ConstantMean(returns)\n",
    "am.volatility = arch.univariate.GARCH(1,0,1)\n",
    "am.distribution = arch.univariate.Normal()\n",
    "res = am.fit()"
   ]
  },
  {
   "cell_type": "code",
   "execution_count": 25,
   "metadata": {},
   "outputs": [
    {
     "data": {
      "text/plain": [
       "mu          0.001429\n",
       "omega       0.000959\n",
       "alpha[1]    0.169703\n",
       "beta[1]     0.686990\n",
       "Name: params, dtype: float64"
      ]
     },
     "execution_count": 25,
     "metadata": {},
     "output_type": "execute_result"
    }
   ],
   "source": [
    "res.params"
   ]
  },
  {
   "cell_type": "code",
   "execution_count": 6,
   "metadata": {},
   "outputs": [],
   "source": [
    "garch_result_py = np.sqrt(res.params['omega'] + res.params['alpha[1]'] * res.resid**2 + res.conditional_volatility**2 * res.params['beta[1]'])\n",
    "\n",
    "#below are the parameters that excel produces with solver\n",
    "garch_result_xls = np.sqrt(0.002760 +  0.262033  * res.resid**2 + res.conditional_volatility**2 * 0.284771)"
   ]
  },
  {
   "cell_type": "code",
   "execution_count": 7,
   "metadata": {},
   "outputs": [
    {
     "data": {
      "text/plain": [
       "<matplotlib.axes._subplots.AxesSubplot at 0x1127bf4d0>"
      ]
     },
     "execution_count": 7,
     "metadata": {},
     "output_type": "execute_result"
    },
    {
     "data": {
      "image/png": "[encoded data removed]",
      "text/plain": [
       "<matplotlib.figure.Figure at 0x1127aae50>"
      ]
     },
     "metadata": {},
     "output_type": "display_data"
    }
   ],
   "source": [
    "%matplotlib inline\n",
    "import matplotlib.pyplot as plt  \n",
    "import seaborn as sb  \n",
    "sb.set_style('darkgrid')\n",
    "#import matplotlib as mpl\n",
    "garch_result_py.plot()\n",
    "garch_result_xls.plot()"
   ]
  },
  {
   "cell_type": "code",
   "execution_count": 8,
   "metadata": {},
   "outputs": [
    {
     "name": "stdout",
     "output_type": "stream",
     "text": [
      "std. dev. = 0.0681210419227 and variance = 0.00464047635264\n",
      "std. dev. = 0.0653957632044 and variance = 0.00427660584509\n"
     ]
    }
   ],
   "source": [
    "import math\n",
    "for x in garch_result_py.tail(2).values:\n",
    "    print \"std. dev. = {0} and variance = {1}\".format(x, x**2)"
   ]
  },
  {
   "cell_type": "code",
   "execution_count": 10,
   "metadata": {
    "collapsed": true
   },
   "outputs": [],
   "source": [
    "# Maximum likelyhood\n",
    "#http://dan.iel.fm/emcee/current/user/line/"
   ]
  },
  {
   "cell_type": "code",
   "execution_count": 11,
   "metadata": {},
   "outputs": [
    {
     "data": {
      "text/plain": [
       "'2016-03-07'"
      ]
     },
     "execution_count": 11,
     "metadata": {},
     "output_type": "execute_result"
    }
   ],
   "source": [
    "garch_result_py.tail(1).index[0].strftime(\"%Y-%m-%d\")"
   ]
  },
  {
   "cell_type": "code",
   "execution_count": 12,
   "metadata": {},
   "outputs": [
    {
     "data": {
      "text/plain": [
       "array([ 0.07896306,  0.07309138,  0.06812104,  0.06539576])"
      ]
     },
     "execution_count": 12,
     "metadata": {},
     "output_type": "execute_result"
    }
   ],
   "source": [
    "garch_result_py.tail(4).values"
   ]
  },
  {
   "cell_type": "code",
   "execution_count": 13,
   "metadata": {},
   "outputs": [
    {
     "name": "stdout",
     "output_type": "stream",
     "text": [
      "Iteration:      1,   Func. Count:      6,   Neg. LLF: -680.888696469\n",
      "Iteration:      2,   Func. Count:     17,   Neg. LLF: -681.180747541\n",
      "Iteration:      3,   Func. Count:     25,   Neg. LLF: -681.245628521\n",
      "Iteration:      4,   Func. Count:     33,   Neg. LLF: -681.27789869\n",
      "Iteration:      5,   Func. Count:     40,   Neg. LLF: -681.490475828\n",
      "Iteration:      6,   Func. Count:     47,   Neg. LLF: -681.682444581\n",
      "Iteration:      7,   Func. Count:     54,   Neg. LLF: -681.848394233\n",
      "Iteration:      8,   Func. Count:     61,   Neg. LLF: -681.988656365\n",
      "Iteration:      9,   Func. Count:     68,   Neg. LLF: -682.034648724\n",
      "Iteration:     10,   Func. Count:     75,   Neg. LLF: -682.11231312\n",
      "Iteration:     11,   Func. Count:     82,   Neg. LLF: -682.190747369\n",
      "Iteration:     12,   Func. Count:     88,   Neg. LLF: -682.194846605\n",
      "Iteration:     13,   Func. Count:     94,   Neg. LLF: -682.195444781\n",
      "Iteration:     14,   Func. Count:    100,   Neg. LLF: -682.195496914\n",
      "Iteration:     15,   Func. Count:    106,   Neg. LLF: -682.195498874\n",
      "Optimization terminated successfully.    (Exit mode 0)\n",
      "            Current function value: -682.195498874\n",
      "            Iterations: 15\n",
      "            Function evaluations: 106\n",
      "            Gradient evaluations: 15\n"
     ]
    },
    {
     "data": {
      "text/plain": [
       "mu          0.001400\n",
       "omega       0.000958\n",
       "alpha[1]    0.169174\n",
       "beta[1]     0.688043\n",
       "Name: params, dtype: float64"
      ]
     },
     "execution_count": 13,
     "metadata": {},
     "output_type": "execute_result"
    }
   ],
   "source": [
    "# what would the garch results be yesterday?\n",
    "returns2 = df['pct_change'][:-1].dropna()\n",
    "am = arch.univariate.ConstantMean(returns2)\n",
    "am.volatility = arch.univariate.GARCH(1,0,1)\n",
    "am.distribution = arch.univariate.Normal()\n",
    "res = am.fit()\n",
    "res.params"
   ]
  },
  {
   "cell_type": "code",
   "execution_count": 14,
   "metadata": {},
   "outputs": [
    {
     "data": {
      "text/plain": [
       "array([ 0.08578617,  0.0789862 ,  0.07314066,  0.06818933])"
      ]
     },
     "execution_count": 14,
     "metadata": {},
     "output_type": "execute_result"
    }
   ],
   "source": [
    "'''\n",
    "the estimate for the same day is different if you get it at differnt times since the parameters are different.\n",
    "Example: today is 20151211 and if I get the garch(1,1) estimates for:\n",
    "returns = df['pct_change'].dropna() # the entire file\n",
    "returns2 = df['pct_change'][:-1].dropna() # the entire file minus the most recent pct_change you get:\n",
    "\n",
    "garch_result_py.tail(4).values\n",
    "array([ 0.09957115,  0.0884386 ,  0.08710699,  0.07221464])\n",
    "vs\n",
    "garch_result_py_t_1.tail(4).values\n",
    "array([ 0.07383632,  0.09977361,  0.08865689,  0.0872831 ])\n",
    "\n",
    "Look at the penultimate value in the first array, 0.08710699\n",
    "versus the last value in the last array, 0.0872831\n",
    "\n",
    "The values are very close and although you are using the same data, the extra value in the first case changes \n",
    "your parameters and ultimately your results\n",
    "'''\n",
    "garch_result_py_t_1 = np.sqrt(res.params['omega'] + res.params['alpha[1]'] * res.resid**2 + res.conditional_volatility**2 * res.params['beta[1]'])\n",
    "garch_result_py_t_1.tail(4).values"
   ]
  }
 ],
 "metadata": {
  "kernelspec": {
   "display_name": "Python 3",
   "language": "python",
   "name": "python3"
  },
  "language_info": {
   "codemirror_mode": {
    "name": "ipython",
    "version": 3
   },
   "file_extension": ".py",
   "mimetype": "text/x-python",
   "name": "python",
   "nbconvert_exporter": "python",
   "pygments_lexer": "ipython3",
   "version": "3.5.0"
  }
 },
 "nbformat": 4,
 "nbformat_minor": 1
}
