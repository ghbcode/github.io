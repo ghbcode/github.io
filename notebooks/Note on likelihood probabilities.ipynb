{
 "cells": [
  {
   "cell_type": "markdown",
   "metadata": {},
   "source": [
    "# Note on Likelihood Probabilities\n",
    "\n",
    "Assuming that your data, $D$, is defined by $D = \\{x_i, y_i\\}$ and that $\\underline{\\theta}$ denotes your model parameters, Using probability relations we have:<br>\n",
    "\n",
    "$$p(y,\\underline{x}|\\underline{\\theta}) = p(y|\\underline{x},\\underline{\\theta})p(\\underline{x}|\\underline{\\theta})\\\\\n",
    "= p(y|\\underline{x},\\underline{\\theta})p(\\underline{x})$$\n",
    "<br>\n",
    "\n",
    "For the last step you can drop the last condition because $\\theta$ tells you nothing useful about $p(x)$. If you are interested in maximizing or minimizing the likelihood you can do the following:\n",
    "<br>\n",
    "\n",
    "$$\\underset{\\theta}{\\mathrm{argmax}} \\space \\space p(D|\\underline{\\theta}) = \\underset{\\theta}{\\mathrm{argmax}}\\space\\space [\\prod_{i=1}^{N} p(y_i,\\underline{x_i}|\\underline{\\theta})]\\\\\n",
    "= \\underset{\\theta}{\\mathrm{argmax}}\\space\\space [\\prod_{i=1}^{N} p(y_i|\\underline{x_i},\\underline{\\theta})p(\\underline{x_i})]\\\\\n",
    "= \\underset{\\theta}{\\mathrm{argmax}}\\space\\space [\\prod_{i=1}^{N}p(y_i|\\underline{x_i},\\underline{\\theta}) \\prod_{i=1}^{N} p(\\underline{x_i})]\\\\\n",
    "= \\underset{\\theta}{\\mathrm{argmax}}\\space\\space [\\prod_{i=1}^{N}p(y_i|\\underline{x_i},\\underline{\\theta})]\n",
    "$$\n",
    "<br>\n",
    "\n",
    "Since we are optimizing over $\\underline{\\theta}$ the multiplicative constant $\\prod_{i=1}^{N}p(\\underline{x_i})$ is independent of $\\underline{\\theta}$ and can therefore be dropped. So when <u>the goal of using the likelihood is to find its argmax or argmin w.r.t. $\\underline{\\theta}$, we can replace $p(y_i,x_i|\\underline{\\theta})$ directly with $p(y_i |x_i,\\underline{\\theta})$.</u>"
   ]
  }
 ],
 "metadata": {
  "kernelspec": {
   "display_name": "Python 3",
   "language": "python",
   "name": "python3"
  },
  "language_info": {
   "codemirror_mode": {
    "name": "ipython",
    "version": 3
   },
   "file_extension": ".py",
   "mimetype": "text/x-python",
   "name": "python",
   "nbconvert_exporter": "python",
   "pygments_lexer": "ipython3",
   "version": "3.5.0"
  }
 },
 "nbformat": 4,
 "nbformat_minor": 2
}
