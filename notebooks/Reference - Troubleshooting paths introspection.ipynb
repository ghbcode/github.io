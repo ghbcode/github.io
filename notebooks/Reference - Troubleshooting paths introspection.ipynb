{
 "cells": [
  {
   "cell_type": "markdown",
   "metadata": {},
   "source": [
    "## Troubleshooting Tips\n",
    "\n",
    "Sometimes you get results that you don't expect. Most of the time the cause of the error is related to the user not understanding exactly what the syntax is/should be. But there is the occasional insiduous issue related to using the wrong version, library files being mixed up or simply that you think a particular state (such as username) is 'xyz' when in fact it is 'abc.' Here are some checks to make sure that you cover your bases."
   ]
  },
  {
   "cell_type": "markdown",
   "metadata": {},
   "source": [
    "### Output the Python version being used"
   ]
  },
  {
   "cell_type": "code",
   "execution_count": 1,
   "metadata": {},
   "outputs": [
    {
     "name": "stdout",
     "output_type": "stream",
     "text": [
      "Python version:  3.5.0 (default, Feb  5 2017, 17:58:04) \n",
      "[GCC 4.2.1 Compatible Apple LLVM 6.0 (clang-600.0.54)]\n",
      "Python is installed in :  /Users/gonzalobriceno/Files/Programming/venvp3/bin\n"
     ]
    }
   ],
   "source": [
    "import sys\n",
    "print(\"Python version: \", sys.version)\n",
    "import os\n",
    "print(\"Python is installed in : \", os.path.dirname(sys.executable))"
   ]
  },
  {
   "cell_type": "markdown",
   "metadata": {},
   "source": [
    "### For an imported module output the version and file location "
   ]
  },
  {
   "cell_type": "code",
   "execution_count": 2,
   "metadata": {},
   "outputs": [
    {
     "name": "stdout",
     "output_type": "stream",
     "text": [
      "Pandas version:  0.23.3\n",
      "Pandas is installed in :  /Users/gonzalobriceno/Files/Programming/venvp3/lib/python3.5/site-packages/pandas/__init__.py\n"
     ]
    }
   ],
   "source": [
    "import pandas\n",
    "print(\"Pandas version: \", pandas.__version__)\n",
    "import inspect\n",
    "print(\"Pandas is installed in : \", inspect.getfile(pandas))"
   ]
  },
  {
   "cell_type": "markdown",
   "metadata": {},
   "source": [
    "### Output the environment variables\n",
    "\n",
    "You should get the pretty print (pprint) module for this. Note that you can get:\n",
    "* environment variables\n",
    "* user this script is running as PWD\n",
    "* your shell"
   ]
  },
  {
   "cell_type": "code",
   "execution_count": 3,
   "metadata": {},
   "outputs": [
    {
     "name": "stdout",
     "output_type": "stream",
     "text": [
      "{'Apple_PubSub_Socket_Render': '/private/tmp/com.apple.launchd.UGcmKBKY5C/Render',\n",
      " 'CLICOLOR': '1',\n",
      " 'GIT_PAGER': 'cat',\n",
      " 'HOME': '/Users/gonzalobriceno',\n",
      " 'JPY_PARENT_PID': '5866',\n",
      " 'LANG': 'en_US.utf-8',\n",
      " 'LC_ALL': 'en_US.utf-8',\n",
      " 'LOGNAME': 'gonzalobriceno',\n",
      " 'LSCOLORS': 'ExFxCxDxBxegedabagacad',\n",
      " 'MPLBACKEND': 'module://ipykernel.pylab.backend_inline',\n",
      " 'OLDPWD': '/Users/gonzalobriceno/Files/Programming/venvp3/bin',\n",
      " 'PAGER': 'cat',\n",
      " 'PATH': '/Users/gonzalobriceno/Files/Programming/venvp3/bin:/Library/Frameworks/Python.framework/Versions/3.6/bin:/Library/Frameworks/Python.framework/Versions/3.6/bin:/usr/local/bin:/usr/bin:/bin:/usr/local/sbin:/usr/sbin:/sbin:/opt/local/bin:/opt/local/sbin:/Applications/Wireshark.app/Contents/MacOS:/usr/local/mysql/bin',\n",
      " 'PS1': '(venvp3) '\n",
      "        '\\\\h:\\\\W '\n",
      "        '\\\\u\\\\$ ',\n",
      " 'PWD': '/Users/gonzalobriceno/Files/Programming/venvp3',\n",
      " 'PYTHONPATH': '/Users/gonzalobriceno/Files/Programming/venvp3/lib/python3.5/site-packages:/Users/gonzalobriceno/Files/Programming/workspace-eclipse-oxygen/ghb.python',\n",
      " 'SHELL': '/bin/bash',\n",
      " 'SHLVL': '1',\n",
      " 'SSH_AUTH_SOCK': '/private/tmp/com.apple.launchd.i6gsOvoknu/Listeners',\n",
      " 'TERM': 'xterm-color',\n",
      " 'TERM_PROGRAM': 'Apple_Terminal',\n",
      " 'TERM_PROGRAM_VERSION': '400',\n",
      " 'TERM_SESSION_ID': 'AD5B631B-64A9-491F-A20C-E0C6C7834883',\n",
      " 'TMPDIR': '/var/folders/2d/1pxbp8md5917hjzz6ygxnqtm0000gn/T/',\n",
      " 'USER': 'gonzalobriceno',\n",
      " 'VIRTUAL_ENV': '/Users/gonzalobriceno/Files/Programming/venvp3',\n",
      " 'XPC_FLAGS': '0x0',\n",
      " 'XPC_SERVICE_NAME': '0',\n",
      " '_': '/Users/gonzalobriceno/Files/Programming/venvp3/bin/ipython',\n",
      " '__CF_USER_TEXT_ENCODING': '0x1F5:0x0:0x0',\n",
      " '__PYVENV_LAUNCHER__': '/Users/gonzalobriceno/Files/Programming/venvp3/bin/python3'}\n"
     ]
    }
   ],
   "source": [
    "import pprint \n",
    "pprint.pprint(dict(os.environ), width=1)"
   ]
  },
  {
   "cell_type": "markdown",
   "metadata": {},
   "source": [
    "### For a particular module output the available functions\n",
    "\n",
    "In case that you don't have code completion enabled"
   ]
  },
  {
   "cell_type": "code",
   "execution_count": 4,
   "metadata": {},
   "outputs": [
    {
     "name": "stdout",
     "output_type": "stream",
     "text": [
      "['__class__',\n",
      " '__contains__',\n",
      " '__delattr__',\n",
      " '__delitem__',\n",
      " '__dir__',\n",
      " '__doc__',\n",
      " '__eq__',\n",
      " '__format__',\n",
      " '__ge__',\n",
      " '__getattribute__',\n",
      " '__getitem__',\n",
      " '__gt__',\n",
      " '__hash__',\n",
      " '__init__',\n",
      " '__iter__',\n",
      " '__le__',\n",
      " '__len__',\n",
      " '__lt__',\n",
      " '__ne__',\n",
      " '__new__',\n",
      " '__reduce__',\n",
      " '__reduce_ex__',\n",
      " '__repr__',\n",
      " '__setattr__',\n",
      " '__setitem__',\n",
      " '__sizeof__',\n",
      " '__str__',\n",
      " '__subclasshook__',\n",
      " 'clear',\n",
      " 'copy',\n",
      " 'fromkeys',\n",
      " 'get',\n",
      " 'items',\n",
      " 'keys',\n",
      " 'pop',\n",
      " 'popitem',\n",
      " 'setdefault',\n",
      " 'update',\n",
      " 'values']\n",
      "<class 'dict'>\n",
      "\n",
      "key has type = '<class 'str'>' and value = 'FRED/TEDRATE'\n",
      "values has type = '<class 'str'>' and value = ''\n",
      "\n",
      "key has type = '<class 'str'>' and value = 'CBOE/VIX'\n",
      "values has type = '<class 'str'>' and value = 'VIX Close'\n",
      "\n"
     ]
    }
   ],
   "source": [
    "data = {'CBOE/VIX': 'VIX Close', 'FRED/TEDRATE': ''}\n",
    "pprint.pprint(dir(data), width=1) \n",
    "print(type(data))\n",
    "print(\"\")\n",
    "\n",
    "if data.__class__ == 'str'.__class__:\n",
    "    print(\"varialbe is a '{0}' and has value = {1}\".format(x.__class__, x))\n",
    "elif data.__class__ == [1, 2, \"list\"].__class__: \n",
    "    for item in data:\n",
    "        print(\"Item has value = {}\".format(item))\n",
    "else:\n",
    "    for key, values in data.items():\n",
    "        print(\"key has type = '{0}' and value = '{1}'\".format(type(key), key))\n",
    "        print(\"values has type = '{0}' and value = '{1}'\".format(type(values), values))\n",
    "        print(\"\")"
   ]
  },
  {
   "cell_type": "markdown",
   "metadata": {},
   "source": [
    "### Does a particular file exist?"
   ]
  },
  {
   "cell_type": "code",
   "execution_count": 5,
   "metadata": {},
   "outputs": [
    {
     "name": "stdout",
     "output_type": "stream",
     "text": [
      "File exists and is readable\n"
     ]
    }
   ],
   "source": [
    "import os.path\n",
    "PATH='/Users/gonzalobriceno/Files/music.txt'\n",
    "\n",
    "if os.path.isfile(PATH) and os.access(PATH, os.R_OK):\n",
    "    print(\"File exists and is readable\")\n",
    "else:\n",
    "    print(\"Either file is missing or is not readable\")"
   ]
  },
  {
   "cell_type": "markdown",
   "metadata": {},
   "source": [
    "### Did a particular command fail or succeed?\n",
    "\n",
    "Remember that a return vaue of 0 means the call was successful"
   ]
  },
  {
   "cell_type": "code",
   "execution_count": 6,
   "metadata": {},
   "outputs": [
    {
     "name": "stdout",
     "output_type": "stream",
     "text": [
      "Command cp /Users/gonzalobriceno/Files/music.txt /Users/gonzalobriceno/Files/music2.txt returned 0.\n"
     ]
    }
   ],
   "source": [
    "command = 'cp /Users/gonzalobriceno/Files/music.txt /Users/gonzalobriceno/Files/music2.txt'\n",
    "retvalue = os.system(command)\n",
    "print('Command {0} returned {1}.'.format(command,retvalue))"
   ]
  },
  {
   "cell_type": "code",
   "execution_count": 9,
   "metadata": {},
   "outputs": [
    {
     "name": "stdout",
     "output_type": "stream",
     "text": [
      "Using ghbutils version 0.3.1\n",
      "\n",
      "Below is information about variable name 'data'\n",
      "['__class__',\n",
      " '__contains__',\n",
      " '__delattr__',\n",
      " '__delitem__',\n",
      " '__dir__',\n",
      " '__doc__',\n",
      " '__eq__',\n",
      " '__format__',\n",
      " '__ge__',\n",
      " '__getattribute__',\n",
      " '__getitem__',\n",
      " '__gt__',\n",
      " '__hash__',\n",
      " '__init__',\n",
      " '__iter__',\n",
      " '__le__',\n",
      " '__len__',\n",
      " '__lt__',\n",
      " '__ne__',\n",
      " '__new__',\n",
      " '__reduce__',\n",
      " '__reduce_ex__',\n",
      " '__repr__',\n",
      " '__setattr__',\n",
      " '__setitem__',\n",
      " '__sizeof__',\n",
      " '__str__',\n",
      " '__subclasshook__',\n",
      " 'clear',\n",
      " 'copy',\n",
      " 'fromkeys',\n",
      " 'get',\n",
      " 'items',\n",
      " 'keys',\n",
      " 'pop',\n",
      " 'popitem',\n",
      " 'setdefault',\n",
      " 'update',\n",
      " 'values']\n",
      "<class 'dict'>\n",
      "\n",
      "Attempting to show data about variable name 'data'\n",
      "\n",
      "key has type = <class 'str'> and value = FRED/TEDRATE\n",
      "values has type = <class 'str'> and value = \n",
      "\n",
      "key has type = <class 'str'> and value = CBOE/VIX\n",
      "values has type = <class 'str'> and value = VIX Close\n",
      "\n"
     ]
    }
   ],
   "source": [
    "from utils.ghbutils_v2 import ghbutils_v2\n",
    "utils = ghbutils_v2('Troubleshooting')\n",
    "utils.object_info(data)"
   ]
  },
  {
   "cell_type": "code",
   "execution_count": null,
   "metadata": {},
   "outputs": [],
   "source": []
  }
 ],
 "metadata": {
  "kernelspec": {
   "display_name": "Python 3",
   "language": "python",
   "name": "python3"
  },
  "language_info": {
   "codemirror_mode": {
    "name": "ipython",
    "version": 3
   },
   "file_extension": ".py",
   "mimetype": "text/x-python",
   "name": "python",
   "nbconvert_exporter": "python",
   "pygments_lexer": "ipython3",
   "version": "3.5.0"
  }
 },
 "nbformat": 4,
 "nbformat_minor": 2
}
