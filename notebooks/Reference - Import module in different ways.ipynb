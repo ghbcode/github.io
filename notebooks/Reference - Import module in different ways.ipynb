{
 "cells": [
  {
   "cell_type": "markdown",
   "metadata": {},
   "source": [
    "# Different Ways to Import Modules\n",
    "\n",
    "You may import modules in several ways as described below. I'm not sure if these methods are synonymous or if there is one preferred over the others. I have used all three ways and simply want to document these options.\n",
    "\n",
    "### Pre-requisite: \n",
    "Make the call to sys.path.append"
   ]
  },
  {
   "cell_type": "code",
   "execution_count": 1,
   "metadata": {},
   "outputs": [
    {
     "name": "stdout",
     "output_type": "stream",
     "text": [
      "Using ghbutils version 0.3.1\n",
      "\n"
     ]
    }
   ],
   "source": [
    "'''\n",
    "import from a different directory\n",
    "'''\n",
    "import sys, os\n",
    "sys.path.append(os.path.abspath(\"/Users/gonzalobriceno/Files/Programming/eclipse-oxygen-workspace/ghb.python\"))\n",
    "from utils import ghbutils_v2 as gb\n",
    "utils01 = gb.ghbutils_v2(\"testing\")\n",
    "utils01.print_version()"
   ]
  },
  {
   "cell_type": "markdown",
   "metadata": {},
   "source": [
    "# OR you can do it this way\n",
    "\n",
    "### Pre-requisite: \n",
    "Import the imp module"
   ]
  },
  {
   "cell_type": "code",
   "execution_count": 2,
   "metadata": {},
   "outputs": [
    {
     "name": "stdout",
     "output_type": "stream",
     "text": [
      "Using ghbutils version 0.3.1\n",
      "\n"
     ]
    }
   ],
   "source": [
    "#OR\n",
    "'''\n",
    "import from a different directory\n",
    "'''\n",
    "import imp\n",
    "# the first parameter needs to be 'ghbutils_v2', cannot use any name\n",
    "ghbutils = imp.load_source('ghbutils_v2',\n",
    "                           '/Users/gonzalobriceno/Files/Programming/workspace-eclipse-oxygen/ghb.python/utils/ghbutils_v2.py')\n",
    "utils02 = ghbutils.ghbutils_v2(\"testing\")\n",
    "utils02.print_version()"
   ]
  },
  {
   "cell_type": "markdown",
   "metadata": {},
   "source": [
    "# OR you can do it this way\n",
    "\n",
    "### Pre-requisite: \n",
    "**The PYTHONPATH variable needs to be setup properly for Jupyter.** If you have a venv you have to pay attention to your setup (activate and deactivate)."
   ]
  },
  {
   "cell_type": "code",
   "execution_count": 3,
   "metadata": {},
   "outputs": [
    {
     "name": "stdout",
     "output_type": "stream",
     "text": [
      "Using ghbutils version 0.3.1\n",
      "\n"
     ]
    }
   ],
   "source": [
    "from utils import ghbutils_v2 as gb\n",
    "utils03 = gb.ghbutils_v2(\"testing\")\n",
    "utils03.print_version()"
   ]
  },
  {
   "cell_type": "markdown",
   "metadata": {},
   "source": [
    "## Side Notes and References"
   ]
  },
  {
   "cell_type": "code",
   "execution_count": 4,
   "metadata": {},
   "outputs": [
    {
     "name": "stdout",
     "output_type": "stream",
     "text": [
      "('JUPYTER_PATH not defined\\n'\n",
      " \"['__cause__', '__class__', '__context__', '__delattr__', '__dict__', \"\n",
      " \"'__dir__', '__doc__', '__eq__', '__format__', '__ge__', '__getattribute__', \"\n",
      " \"'__gt__', '__hash__', '__init__', '__le__', '__lt__', '__ne__', '__new__', \"\n",
      " \"'__reduce__', '__reduce_ex__', '__repr__', '__setattr__', '__setstate__', \"\n",
      " \"'__sizeof__', '__str__', '__subclasshook__', '__suppress_context__', \"\n",
      " \"'__traceback__', 'args', 'with_traceback']\")\n",
      "'/Users/gonzalobriceno/Files/Programming/venvp3/lib/python3.5/site-packages:/Users/gonzalobriceno/Files/Programming/workspace-eclipse-oxygen/ghb.python'\n"
     ]
    }
   ],
   "source": [
    "'''\n",
    "The Jupyter environment uses the PYTHONPATH variable. \n",
    "If this is set correctly, there is no need for importing from an absolute path\n",
    "'''\n",
    "import os, pprint\n",
    "try:\n",
    "    print(os.environ['JUPYTER_PATH'])\n",
    "except KeyError as e:\n",
    "    pprint.pprint(\"JUPYTER_PATH not defined\\n{0}\".format(dir(e)))\n",
    "    pprint.pprint(os.environ['PYTHONPATH'])\n"
   ]
  },
  {
   "cell_type": "code",
   "execution_count": 5,
   "metadata": {},
   "outputs": [
    {
     "name": "stdout",
     "output_type": "stream",
     "text": [
      "Using ghbutils version 0.3.1\n",
      "\n",
      "Running as user:gonzalobriceno,\n",
      " current working directory:/Users/gonzalobriceno/Files/Programming/notebook,\n",
      " path where this file exists /Users/gonzalobriceno/Files/Programming/workspace-eclipse-oxygen/ghb.python/utils,\n",
      " run on:2018-07-26 10:25:45.444177\n",
      "\n",
      "Numpy location:/Users/gonzalobriceno/Files/Programming/venvp3/lib/python3.5/site-packages/numpy/__init__.py\n",
      "$PATH variable:None\n",
      "PATH variable:/Users/gonzalobriceno/Files/Programming/venvp3/bin:/Library/Frameworks/Python.framework/Versions/3.6/bin:/Library/Frameworks/Python.framework/Versions/3.6/bin:/usr/local/bin:/usr/bin:/bin:/usr/local/sbin:/usr/sbin:/sbin:/opt/local/bin:/opt/local/sbin:/Applications/Wireshark.app/Contents/MacOS:/usr/local/mysql/bin\n",
      "$PYTHONPATH variable:None\n",
      "PYTHONPATH variable:/Users/gonzalobriceno/Files/Programming/venvp3/lib/python3.5/site-packages:/Users/gonzalobriceno/Files/Programming/workspace-eclipse-oxygen/ghb.python\n"
     ]
    }
   ],
   "source": [
    "utils03.display_environment_setup()"
   ]
  },
  {
   "cell_type": "code",
   "execution_count": 6,
   "metadata": {},
   "outputs": [
    {
     "name": "stdout",
     "output_type": "stream",
     "text": [
      "mappingproxy({'__dict__': <attribute '__dict__' of 'ghbutils_v2' objects>,\n",
      "              '__doc__': 'A library of useful utilities.\\n'\n",
      "                         '    \\n'\n",
      "                         '    Attributes:\\n'\n",
      "                         '    \\n'\n",
      "                         '    To Do:\\n'\n",
      "                         '    ',\n",
      "              '__init__': <function ghbutils_v2.__init__ at 0x10fc681e0>,\n",
      "              '__module__': 'utils.ghbutils_v2',\n",
      "              '__weakref__': <attribute '__weakref__' of 'ghbutils_v2' objects>,\n",
      "              'calc_ln': <function ghbutils_v2.calc_ln at 0x10fc69f28>,\n",
      "              'check_internet1': <function ghbutils_v2.check_internet1 at 0x10fc69b70>,\n",
      "              'check_internet2': <function ghbutils_v2.check_internet2 at 0x10fc69bf8>,\n",
      "              'display_environment_setup': <function ghbutils_v2.display_environment_setup at 0x10fc69d08>,\n",
      "              'emailResultFile': <function ghbutils_v2.emailResultFile at 0x10fc698c8>,\n",
      "              'emailResults': <function ghbutils_v2.emailResults at 0x10fc69840>,\n",
      "              'file_exists': <function ghbutils_v2.file_exists at 0x10fc69c80>,\n",
      "              'get_description_file_into_df': <function ghbutils_v2.get_description_file_into_df at 0x10fc69950>,\n",
      "              'get_function_name': <function ghbutils_v2.get_function_name at 0x10fc69ae8>,\n",
      "              'imports': <function ghbutils_v2.imports at 0x10fc69e18>,\n",
      "              'log': <function ghbutils_v2.log at 0x10fc6a1e0>,\n",
      "              'object_info': <function ghbutils_v2.object_info at 0x10fc699d8>,\n",
      "              'print_df_column_types': <function ghbutils_v2.print_df_column_types at 0x10fc6a0d0>,\n",
      "              'print_df_details': <function ghbutils_v2.print_df_details at 0x10fc6a048>,\n",
      "              'print_modules_loaded': <function ghbutils_v2.print_modules_loaded at 0x10fc69ea0>,\n",
      "              'print_version': <function ghbutils_v2.print_version at 0x10fc69730>,\n",
      "              'ret_environment_setup': <function ghbutils_v2.ret_environment_setup at 0x10fc69d90>,\n",
      "              'return_password': <function ghbutils_v2.return_password at 0x10fc697b8>,\n",
      "              'show_object': <function ghbutils_v2.show_object at 0x10fc6a158>,\n",
      "              'varName': <function ghbutils_v2.varName at 0x10fc69a60>,\n",
      "              'version': '0.3.1'})\n"
     ]
    }
   ],
   "source": [
    "'''\n",
    "How do you get a list of attributes and functions? \n",
    "'''\n",
    "from pprint import pprint\n",
    "pprint(vars(gb.ghbutils_v2))\n",
    "#pprint(gb.ghbutils_v2.__dict__)\n",
    "\n",
    "#https://stackoverflow.com/questions/1911281/how-do-i-get-list-of-methods-in-a-python-class?utm_medium=organic&utm_source=google_rich_qa&utm_campaign=google_rich_qa\n",
    "method_list = [func for func in dir(gb.ghbutils_v2) if callable(getattr(gb.ghbutils_v2, func))]\n",
    "# dunder excluded\n",
    "method_list = [func for func in dir(gb.ghbutils_v2) if callable(getattr(gb.ghbutils_v2, func)) and not func.startswith(\"__\")]\n",
    "#print(method_list)"
   ]
  },
  {
   "cell_type": "code",
   "execution_count": 7,
   "metadata": {},
   "outputs": [
    {
     "data": {
      "text/plain": [
       "['2018-07-26',\n",
       " 'gonzalobriceno',\n",
       " '/Users/gonzalobriceno/Files/Programming/notebook',\n",
       " '/Users/gonzalobriceno/Files/Programming/workspace-eclipse-oxygen/ghb.python/utils',\n",
       " '/Users/gonzalobriceno/Files/Programming/venvp3/bin:/Library/Frameworks/Python.framework/Versions/3.6/bin:/Library/Frameworks/Python.framework/Versions/3.6/bin:/usr/local/bin:/usr/bin:/bin:/usr/local/sbin:/usr/sbin:/sbin:/opt/local/bin:/opt/local/sbin:/Applications/Wireshark.app/Contents/MacOS:/usr/local/mysql/bin',\n",
       " '/Users/gonzalobriceno/Files/Programming/venvp3/lib/python3.5/site-packages:/Users/gonzalobriceno/Files/Programming/workspace-eclipse-oxygen/ghb.python',\n",
       " '/Users/gonzalobriceno/Files/Programming/venvp3/lib/python3.5/site-packages/numpy/__init__.py',\n",
       " '3.5.0']"
      ]
     },
     "execution_count": 7,
     "metadata": {},
     "output_type": "execute_result"
    }
   ],
   "source": [
    "utils03.ret_environment_setup()"
   ]
  }
 ],
 "metadata": {
  "kernelspec": {
   "display_name": "Python 3",
   "language": "python",
   "name": "python3"
  },
  "language_info": {
   "codemirror_mode": {
    "name": "ipython",
    "version": 3
   },
   "file_extension": ".py",
   "mimetype": "text/x-python",
   "name": "python",
   "nbconvert_exporter": "python",
   "pygments_lexer": "ipython3",
   "version": "3.5.0"
  }
 },
 "nbformat": 4,
 "nbformat_minor": 1
}
