{
 "cells": [
  {
   "cell_type": "markdown",
   "metadata": {},
   "source": [
    "---\n",
    "layout: default\n",
    "title: Notes and samples on Python Topics\n",
    "description: posted by ghbcode on 2015/01/12\n",
    "---\n",
    "\n",
    "# Performance Gains Via Vectorization\n",
    "\n",
    "As always the devil is in the details and it behooves us to dig a little. Depending on how you implement a particular calculation your code may be doing something very inefficiently. See my posting on [profiling code](https://ghbcode.github.io/website/notebooks/troubleshooting-code.html#Profiling-Code) for catching these sorts of instances. As a rule of thumb, if you are iterating over structures with loops or lambda functions, you may want to check if the same can be done via vectorized/matrix algebra. In the example below you have a list with 10 million items in the range from [0,1000] and you sum the total via a loop which takes on average close to a second. When you use the Python sum() function(vectorized) on the same list you realize almost a 10-fold reduction in time. Finally, if you turn the list into an array and use the array.sum() function, you realize over a 100-fold improvement in time. "
   ]
  },
  {
   "cell_type": "code",
   "execution_count": 1,
   "metadata": {},
   "outputs": [],
   "source": [
    "import numpy as np\n",
    "import timeit"
   ]
  },
  {
   "cell_type": "code",
   "execution_count": 2,
   "metadata": {},
   "outputs": [],
   "source": [
    "# Generate a list of random numbers\n",
    "N = int(1e7)\n",
    "num_list = [np.random.randint(0,1000) for i in range(N)] # gives you a list with elements in the [0,1000] range\n",
    "num_arr = np.array(num_list)"
   ]
  },
  {
   "cell_type": "code",
   "execution_count": 3,
   "metadata": {},
   "outputs": [
    {
     "name": "stdout",
     "output_type": "stream",
     "text": [
      "919 ms ± 20.9 ms per loop (mean ± std. dev. of 3 runs, 1 loop each)\n"
     ]
    }
   ],
   "source": [
    "# Check how long it takes to sum all elements of the list using a for loop\n",
    "def arr_sum(x):\n",
    "    # Standard for loop accumulation\n",
    "    total = 0\n",
    "    for n in x:\n",
    "        total += n\n",
    "    return total\n",
    "\n",
    "%timeit -r 3 arr_sum(num_list)"
   ]
  },
  {
   "cell_type": "code",
   "execution_count": 4,
   "metadata": {},
   "outputs": [
    {
     "name": "stdout",
     "output_type": "stream",
     "text": [
      "109 ms ± 1.05 ms per loop (mean ± std. dev. of 3 runs, 10 loops each)\n"
     ]
    }
   ],
   "source": [
    "# Check how long it takes to sum all elements of the list using the Python standard library \"sum()\"\n",
    "def vec_sum(x):\n",
    "    return sum(x)\n",
    "%timeit -r 3 vec_sum(num_list)"
   ]
  },
  {
   "cell_type": "code",
   "execution_count": 5,
   "metadata": {},
   "outputs": [
    {
     "name": "stdout",
     "output_type": "stream",
     "text": [
      "7.72 ms ± 506 µs per loop (mean ± std. dev. of 7 runs, 100 loops each)\n"
     ]
    }
   ],
   "source": [
    "# Check how long it takes to sum all elements of the list by turning into arran and then using the sum() function\n",
    "%timeit num_arr.sum()"
   ]
  }
 ],
 "metadata": {
  "kernelspec": {
   "display_name": "Python 3",
   "language": "python",
   "name": "python3"
  },
  "language_info": {
   "codemirror_mode": {
    "name": "ipython",
    "version": 3
   },
   "file_extension": ".py",
   "mimetype": "text/x-python",
   "name": "python",
   "nbconvert_exporter": "python",
   "pygments_lexer": "ipython3",
   "version": "3.5.0"
  }
 },
 "nbformat": 4,
 "nbformat_minor": 2
}
