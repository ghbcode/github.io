{
 "cells": [
  {
   "cell_type": "markdown",
   "metadata": {},
   "source": [
    "# Use the Sched Module to Cron Code\n",
    "\n",
    "I've been going over this great free book by Caleb Hattingh, [20 Python Libraries You Aren't Using](http://www.oreilly.com/programming/free/files/20-python-libraries-you-arent-using-but-should.pdf), where he covers modules that are of great use. His selection criteria are listed below and I'm sure you'll agree these are some great parameters to follow although I'm not sure what the 'X factor' is referring to. \n",
    "\n",
    "* easy to use\n",
    "* easy to install\n",
    "* cross-platform\n",
    "* applicable to more than one domain\n",
    "* not yet super-popular, but likely to become so\n",
    "* the X factor\n",
    "\n",
    "So below I use the Sched module to cron code. The code is simply querying crypto currency and stock prices, on the hour (you have to use timedelta(minutes=60)), and putting them into a securities master database. The reason this is useful is because this code will work on any platform without any changes, and most importantly, without having to set up a Cron job or the equivalent in Windows Task Scheduler."
   ]
  },
  {
   "cell_type": "code",
   "execution_count": 1,
   "metadata": {},
   "outputs": [
    {
     "name": "stdout",
     "output_type": "stream",
     "text": [
      "Getting Prices:  Wed Apr 11 23:43:00 2018\nGetting Prices:  Wed Apr 11 23:44:00 2018\nGetting Prices:  Wed Apr 11 23:45:00 2018\nStopped.\n"
     ]
    }
   ],
   "source": [
    "#http://www.oreilly.com/programming/free/files/20-python-libraries-you-arent-using-but-should.pdf\n",
    "import sched\n",
    "import time\n",
    "from utils.priceupdate import PriceUpdate\n",
    "from datetime import datetime, timedelta\n",
    "\n",
    "#create scheduler instance\n",
    "scheduler = sched.scheduler(timefunc=time.time)\n",
    "\n",
    "# get current time and reset seconds and microseconds to obtain a whole minute\n",
    "def reschedule():\n",
    "    new_target = datetime.now().replace(second=0, microsecond=0)\n",
    "    new_target += timedelta(minutes=1)\n",
    "    scheduler.enterabs(new_target.timestamp(), priority=0, action=saytime) \n",
    "\n",
    "def saytime():\n",
    "    print(\"Getting Prices: \", time.ctime(), flush=True)\n",
    "    PriceUpdate = PriceUpdate()\n",
    "    PriceUpdate.getGdaxPrices()\n",
    "    PriceUpdate.getPoloniexPrices()\n",
    "    PriceUpdate.insert_prices()\n",
    "    reschedule()\n",
    "\n",
    "reschedule() \n",
    "try:\n",
    "    scheduler.run(blocking=True) \n",
    "except KeyboardInterrupt:\n",
    "    print('Stopped.')"
   ]
  }
 ],
 "metadata": {
  "kernelspec": {
   "display_name": "Python 3",
   "language": "python",
   "name": "python3"
  },
  "language_info": {
   "codemirror_mode": {
    "name": "ipython",
    "version": 3
   },
   "file_extension": ".py",
   "mimetype": "text/x-python",
   "name": "python",
   "nbconvert_exporter": "python",
   "pygments_lexer": "ipython3",
   "version": "3.5.0"
  }
 },
 "nbformat": 4,
 "nbformat_minor": 2
}
